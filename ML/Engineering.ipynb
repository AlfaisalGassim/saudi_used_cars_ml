{
 "cells": [
  {
   "cell_type": "code",
   "execution_count": 28,
   "metadata": {},
   "outputs": [],
   "source": [
    "# Helper packages\n",
    "import numpy as np\n",
    "import pandas as pd\n",
    "from plotnine import *\n",
    "\n",
    "# Modeling pre-processing with scikit-learn functionality\n",
    "from sklearn.model_selection import train_test_split\n",
    "from sklearn.compose import TransformedTargetRegressor\n",
    "from sklearn.compose import ColumnTransformer\n",
    "from sklearn.compose import make_column_selector as selector\n",
    "from sklearn.preprocessing import PowerTransformer\n",
    "from sklearn.preprocessing import StandardScaler\n",
    "from sklearn.preprocessing import OneHotEncoder\n",
    "from sklearn.preprocessing import LabelEncoder\n",
    "from feature_engine.encoding import RareLabelEncoder  # this might need to be installed use this comand: ! pip install -U feature_engine\n",
    "from sklearn.feature_selection import VarianceThreshold\n"
   ]
  },
  {
   "cell_type": "code",
   "execution_count": 11,
   "metadata": {},
   "outputs": [],
   "source": [
    "# reading the data, the train set and the test set.\n",
    "cars = pd.read_csv(\"../EDA/cleaned_data.csv\")\n",
    "cars_Train =  pd.read_csv(\"../EDA/train.csv\")\n",
    "cars_Test =  pd.read_csv(\"../EDA/test.csv\")"
   ]
  },
  {
   "cell_type": "code",
   "execution_count": 22,
   "metadata": {},
   "outputs": [],
   "source": [
    "# separate features from labels and only use numeric features\n",
    "X_train = cars_Train.drop(\"Price\", axis=1)\n",
    "y_train = cars_Train[[\"Price\"]]"
   ]
  },
  {
   "cell_type": "markdown",
   "metadata": {},
   "source": [
    "## Target engineering"
   ]
  },
  {
   "cell_type": "code",
   "execution_count": 23,
   "metadata": {},
   "outputs": [
    {
     "data": {
      "image/png": "[encoded data removed]",
      "text/plain": [
       "<Figure size 640x480 with 1 Axes>"
      ]
     },
     "metadata": {},
     "output_type": "display_data"
    },
    {
     "data": {
      "text/plain": [
       "<ggplot: (8782207742992)>"
      ]
     },
     "execution_count": 23,
     "metadata": {},
     "output_type": "execute_result"
    }
   ],
   "source": [
    "# investigating the normality of the target.\n",
    "(ggplot(cars_Train, aes('Price'))\n",
    " + geom_density()\n",
    " + ggtitle(\"The target density plot\"))"
   ]
  },
  {
   "cell_type": "markdown",
   "metadata": {},
   "source": [
    "The target is positively skewed, so it need to be transfirmed."
   ]
  },
  {
   "cell_type": "code",
   "execution_count": 13,
   "metadata": {},
   "outputs": [
    {
     "data": {
      "text/plain": [
       "TransformedTargetRegressor(transformer=PowerTransformer(method='box-cox'))"
      ]
     },
     "execution_count": 13,
     "metadata": {},
     "output_type": "execute_result"
    }
   ],
   "source": [
    "# creating transformer object\n",
    "tt = TransformedTargetRegressor(transformer=PowerTransformer(method='box-cox'))\n",
    "tt"
   ]
  },
  {
   "cell_type": "markdown",
   "metadata": {},
   "source": [
    "## Dealing With Missing Values"
   ]
  },
  {
   "cell_type": "code",
   "execution_count": 14,
   "metadata": {},
   "outputs": [
    {
     "data": {
      "text/plain": [
       "Make            0\n",
       "Type            0\n",
       "Year            0\n",
       "Origin          0\n",
       "Color           0\n",
       "Options         0\n",
       "Engine_Size     0\n",
       "Fuel_Type       0\n",
       "Gear_Type       0\n",
       "Mileage         0\n",
       "Region          0\n",
       "Price           0\n",
       "Negotiable      0\n",
       "Manu_Country    0\n",
       "dtype: int64"
      ]
     },
     "execution_count": 14,
     "metadata": {},
     "output_type": "execute_result"
    }
   ],
   "source": [
    "# We already delt wit this issue.\n",
    "cars.isnull().sum()"
   ]
  },
  {
   "cell_type": "markdown",
   "metadata": {},
   "source": [
    "## Features Engineering"
   ]
  },
  {
   "cell_type": "code",
   "execution_count": 20,
   "metadata": {},
   "outputs": [
    {
     "data": {
      "text/plain": [
       "VarianceThreshold(threshold=0.1)"
      ]
     },
     "execution_count": 20,
     "metadata": {},
     "output_type": "execute_result"
    }
   ],
   "source": [
    "# craet a feature selector that removes all low-variance features (< 0.1).\n",
    "nzv = VarianceThreshold(threshold=0.1)\n",
    "nzv"
   ]
  },
  {
   "cell_type": "code",
   "execution_count": 53,
   "metadata": {},
   "outputs": [],
   "source": [
    "# Normalizing the nimerical features (to deal with skewed distribution)\n",
    "# Normalizing approach\n",
    "cb = PowerTransformer(method=\"cox-box\")\n",
    "\n",
    "# standerizing the nimerical features (to deal with wide range features)\n",
    "# standerizing approach\n",
    "scaler = StandardScaler()"
   ]
  },
  {
   "cell_type": "markdown",
   "metadata": {},
   "source": [
    "### Categorical Features Engineering"
   ]
  },
  {
   "cell_type": "code",
   "execution_count": 30,
   "metadata": {},
   "outputs": [],
   "source": [
    "# encoding the categoricale features.\n",
    "\n",
    "# one-hot encoder\n",
    "encoder = OneHotEncoder()"
   ]
  },
  {
   "cell_type": "code",
   "execution_count": 29,
   "metadata": {},
   "outputs": [],
   "source": [
    "# Lumping the rare levels together as \"Other\",\n",
    "# which is useful since we have features with rare levels such as Make and Type.\n",
    "\n",
    "# create rare label encoder \n",
    "rare_encoder = RareLabelEncoder(tol=0.01, replace_with=\"other\")"
   ]
  },
  {
   "cell_type": "markdown",
   "metadata": {},
   "source": [
    "we are not going to use principal components analysis because We do not have many numerical features."
   ]
  },
  {
   "cell_type": "markdown",
   "metadata": {},
   "source": [
    "## Putting everything togather."
   ]
  },
  {
   "cell_type": "code",
   "execution_count": 54,
   "metadata": {},
   "outputs": [],
   "source": [
    "# Creating a preprocessor to use in model_pipline\n",
    "\n",
    "preprocessor = ColumnTransformer(\n",
    "  remainder=\"passthrough\",\n",
    "  transformers=[\n",
    "  (\"nzv_encode\", nzv, selector(dtype_include=\"number\")), # remove lowe variance features\n",
    "  (\"rare_encode\", rare_encoder, selector(dtype_include=\"object\")), # lumping rare levels (if a tree-base model is applyed comment this line)\n",
    "  (\"norm\", cb, selector(dtype_include=\"number\")),  # normalyze\n",
    "  (\"std\", scaler, selector(dtype_include=\"number\")),  # standerize\n",
    "  (\"one-hot\", encoder, selector(dtype_include=\"object\")), # encode categorical features\n",
    "  ])"
   ]
  }
 ],
 "metadata": {
  "interpreter": {
   "hash": "d4d1e4263499bec80672ea0156c357c1ee493ec2b1c70f0acce89fc37c4a6abe"
  },
  "kernelspec": {
   "display_name": "Python 3.9.7 ('base')",
   "language": "python",
   "name": "python3"
  },
  "language_info": {
   "codemirror_mode": {
    "name": "ipython",
    "version": 3
   },
   "file_extension": ".py",
   "mimetype": "text/x-python",
   "name": "python",
   "nbconvert_exporter": "python",
   "pygments_lexer": "ipython3",
   "version": "3.9.7"
  },
  "orig_nbformat": 4
 },
 "nbformat": 4,
 "nbformat_minor": 2
}
