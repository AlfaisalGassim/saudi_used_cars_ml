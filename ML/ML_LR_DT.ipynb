{
 "cells": [
  {
   "cell_type": "markdown",
   "id": "4e4baf9b",
   "metadata": {},
   "source": [
    "## Machine learning models "
   ]
  },
  {
   "cell_type": "code",
   "execution_count": 10,
   "id": "61b4e83b",
   "metadata": {},
   "outputs": [],
   "source": [
    "#import libraries \n",
    "from sklearn.impute import SimpleImputer\n",
    "from sklearn.preprocessing import OneHotEncoder, StandardScaler\n",
    "from sklearn.pipeline import make_pipeline\n",
    "from sklearn.compose import make_column_transformer\n",
    "from sklearn.linear_model import LinearRegression\n",
    "\n",
    "from sklearn.tree import DecisionTreeRegressor\n",
    "from sklearn.metrics import mean_squared_error, r2_score\n",
    "\n",
    "import numpy as np\n",
    "import pandas as pd \n"
   ]
  },
  {
   "cell_type": "code",
   "execution_count": 2,
   "id": "9b18fb11",
   "metadata": {},
   "outputs": [],
   "source": [
    "#load training and testing dataset\n",
    "df_train =  pd.read_csv(\"../EDA/train.csv\")\n",
    "df_test =  pd.read_csv(\"../EDA/test.csv\")"
   ]
  },
  {
   "cell_type": "code",
   "execution_count": 3,
   "id": "264598cd",
   "metadata": {},
   "outputs": [
    {
     "data": {
      "text/plain": [
       "Year           0.361355\n",
       "Engine_Size    0.318123\n",
       "Mileage       -0.254367\n",
       "Price          1.000000\n",
       "Negotiable          NaN\n",
       "Name: Price, dtype: float64"
      ]
     },
     "execution_count": 3,
     "metadata": {},
     "output_type": "execute_result"
    }
   ],
   "source": [
    "# find the correlation between the target and other variables \n",
    "df_train.corr()['Price']\n"
   ]
  },
  {
   "cell_type": "code",
   "execution_count": 4,
   "id": "2e027bf2",
   "metadata": {},
   "outputs": [],
   "source": [
    "#remove the price from the dataset\n",
    "X_train = df_train.drop(['Price'],axis=1)\n",
    "y_train = df_train['Price']\n",
    "\n",
    "X_test = df_test.drop(['Price'],axis=1)\n",
    "y_test = df_test['Price']"
   ]
  },
  {
   "cell_type": "code",
   "execution_count": 5,
   "id": "8adf771c",
   "metadata": {},
   "outputs": [],
   "source": [
    "\n",
    "#numerical variables \n",
    "num_pipe1=make_pipeline(StandardScaler())\n",
    "\n",
    "#categorical variables \n",
    "cat_pipe2=make_pipeline(OneHotEncoder(handle_unknown='ignore'))\n",
    "\n",
    "columns_trans=make_column_transformer((num_pipe1,['Year','Mileage','Engine_Size']),\n",
    "                           (cat_pipe2,['Make','Type','Origin','Color','Options','Fuel_Type','Gear_Type','Region','Negotiable','Manu_Country']),\n",
    "                          remainder='passthrough')\n",
    "\n",
    "# By specifying remainder='passthrough', all remaining columns that were not specified in transformers will be automatically passed through.*\n"
   ]
  },
  {
   "cell_type": "markdown",
   "id": "196eccb6",
   "metadata": {},
   "source": [
    "## Linear regression model"
   ]
  },
  {
   "cell_type": "code",
   "execution_count": null,
   "id": "4377f43b",
   "metadata": {},
   "outputs": [],
   "source": [
    "\n",
    "\n",
    "# create linear regression\n",
    "LR_pipeline=make_pipeline(columns_trans,LinearRegression())\n",
    "LR_pipeline.fit(X_train,y_train)\n",
    "#print the score of trining and testing\n",
    "LR_pipeline.score(X_train, y_train), LR_pipeline.score(X_test, y_test)\n",
    "\n",
    "print(\"R2 score on Traing set: %.2f\"% LR_pipeline.score(X_train,y_train))\n",
    "print(\"R2 score on Testing set: %.2f\"% LR_pipeline.score(X_test,y_test))\n",
    "print('Mean squared error: %.2f'% mean_squared_error(y_test,y_pred))"
   ]
  },
  {
   "cell_type": "markdown",
   "id": "6a08827a",
   "metadata": {},
   "source": [
    "## Descion Tree model"
   ]
  },
  {
   "cell_type": "code",
   "execution_count": 12,
   "id": "02d615ea",
   "metadata": {},
   "outputs": [
    {
     "name": "stdout",
     "output_type": "stream",
     "text": [
      "R2 score on Traing set: 1.00\n",
      "R2 score on Testing set: 0.63\n",
      "Mean squared error: 623810859.02\n"
     ]
    }
   ],
   "source": [
    "# create DT regression model \n",
    "\n",
    "DS_R= make_pipeline(columns_trans,DecisionTreeRegressor())\n",
    "\n",
    "DS_R.fit(X_train, y_train)\n",
    "y_pred= DS_R.predict(X_test)\n",
    "\n",
    "print(\"R2 score on Traing set: %.2f\"% DS_R.score(X_train,y_train))\n",
    "print(\"R2 score on Testing set: %.2f\"% DS_R.score(X_test,y_test))\n",
    "print('Mean squared error: %.2f'% mean_squared_error(y_test,y_pred))"
   ]
  },
  {
   "cell_type": "code",
   "execution_count": null,
   "id": "786ec42c",
   "metadata": {},
   "outputs": [],
   "source": []
  },
  {
   "cell_type": "code",
   "execution_count": null,
   "id": "26dd81d3",
   "metadata": {},
   "outputs": [],
   "source": []
  },
  {
   "cell_type": "code",
   "execution_count": null,
   "id": "ef14b1b9",
   "metadata": {},
   "outputs": [],
   "source": []
  }
 ],
 "metadata": {
  "kernelspec": {
   "display_name": "Python 3 (ipykernel)",
   "language": "python",
   "name": "python3"
  },
  "language_info": {
   "codemirror_mode": {
    "name": "ipython",
    "version": 3
   },
   "file_extension": ".py",
   "mimetype": "text/x-python",
   "name": "python",
   "nbconvert_exporter": "python",
   "pygments_lexer": "ipython3",
   "version": "3.9.9"
  },
  "toc": {
   "base_numbering": 1,
   "nav_menu": {},
   "number_sections": true,
   "sideBar": true,
   "skip_h1_title": false,
   "title_cell": "Table of Contents",
   "title_sidebar": "Contents",
   "toc_cell": false,
   "toc_position": {},
   "toc_section_display": true,
   "toc_window_display": false
  },
  "varInspector": {
   "cols": {
    "lenName": 16,
    "lenType": 16,
    "lenVar": 40
   },
   "kernels_config": {
    "python": {
     "delete_cmd_postfix": "",
     "delete_cmd_prefix": "del ",
     "library": "var_list.py",
     "varRefreshCmd": "print(var_dic_list())"
    },
    "r": {
     "delete_cmd_postfix": ") ",
     "delete_cmd_prefix": "rm(",
     "library": "var_list.r",
     "varRefreshCmd": "cat(var_dic_list()) "
    }
   },
   "types_to_exclude": [
    "module",
    "function",
    "builtin_function_or_method",
    "instance",
    "_Feature"
   ],
   "window_display": false
  }
 },
 "nbformat": 4,
 "nbformat_minor": 5
}
