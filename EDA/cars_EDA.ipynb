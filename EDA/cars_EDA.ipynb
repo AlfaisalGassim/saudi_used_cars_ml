{
 "cells": [
  {
   "cell_type": "markdown",
   "metadata": {},
   "source": [
    "# Used Cars Dataset \n",
    "\n",
    "\n",
    "\n",
    "\n",
    "The dataset contains records of used cars collected from syarah.com Each row represents a used car with a link to its webpage. Other information regarding each car is the brand name, model, manufacturing year, origin, the color of the car, options, capacity of the engine, type of fuel, transmission type, the mileage that the car covered, region price, and negotiable.\n",
    "\n",
    "\n",
    "<ul><b>Team members:</b>\n",
    "        <li> Alfaisal alqahtani </li>\n",
    "        <li> Fatema Buhuligah </li>\n",
    "        <li> Sarah Alharbi </li>\n",
    "        <li> Sanad  </li>\n",
    "        <li> Saleh Alabbas</li>\n",
    "        </ul>"
   ]
  },
  {
   "cell_type": "markdown",
   "metadata": {},
   "source": [
    "## Import Libraries "
   ]
  },
  {
   "cell_type": "code",
   "execution_count": 157,
   "metadata": {},
   "outputs": [
    {
     "name": "stdout",
     "output_type": "stream",
     "text": [
      "Requirement already satisfied: plotly in c:\\users\\fatemah\\anaconda3\\lib\\site-packages (5.6.0)\n",
      "Requirement already satisfied: tenacity>=6.2.0 in c:\\users\\fatemah\\anaconda3\\lib\\site-packages (from plotly) (8.0.1)\n",
      "Requirement already satisfied: six in c:\\users\\fatemah\\anaconda3\\lib\\site-packages (from plotly) (1.15.0)\n",
      "Requirement already satisfied: mplcyberpunk in c:\\users\\fatemah\\anaconda3\\lib\\site-packages (0.4.0)\n",
      "Requirement already satisfied: matplotlib in c:\\users\\fatemah\\anaconda3\\lib\\site-packages (from mplcyberpunk) (3.5.1)\n",
      "Requirement already satisfied: cycler>=0.10 in c:\\users\\fatemah\\anaconda3\\lib\\site-packages (from matplotlib->mplcyberpunk) (0.10.0)\n",
      "Requirement already satisfied: numpy>=1.17 in c:\\users\\fatemah\\anaconda3\\lib\\site-packages (from matplotlib->mplcyberpunk) (1.22.1)\n",
      "Requirement already satisfied: python-dateutil>=2.7 in c:\\users\\fatemah\\anaconda3\\lib\\site-packages (from matplotlib->mplcyberpunk) (2.8.1)\n",
      "Requirement already satisfied: pillow>=6.2.0 in c:\\users\\fatemah\\anaconda3\\lib\\site-packages (from matplotlib->mplcyberpunk) (8.0.1)\n",
      "Requirement already satisfied: fonttools>=4.22.0 in c:\\users\\fatemah\\anaconda3\\lib\\site-packages (from matplotlib->mplcyberpunk) (4.29.1)\n",
      "Requirement already satisfied: packaging>=20.0 in c:\\users\\fatemah\\anaconda3\\lib\\site-packages (from matplotlib->mplcyberpunk) (20.8)\n",
      "Requirement already satisfied: kiwisolver>=1.0.1 in c:\\users\\fatemah\\anaconda3\\lib\\site-packages (from matplotlib->mplcyberpunk) (1.3.0)\n",
      "Requirement already satisfied: pyparsing>=2.2.1 in c:\\users\\fatemah\\anaconda3\\lib\\site-packages (from matplotlib->mplcyberpunk) (2.4.7)\n",
      "Requirement already satisfied: six in c:\\users\\fatemah\\anaconda3\\lib\\site-packages (from cycler>=0.10->matplotlib->mplcyberpunk) (1.15.0)\n"
     ]
    }
   ],
   "source": [
    "! pip install plotly\n",
    "! pip install mplcyberpunk"
   ]
  },
  {
   "cell_type": "code",
   "execution_count": 158,
   "metadata": {},
   "outputs": [],
   "source": [
    "# imporitng the libraries\n",
    "import pandas as pd\n",
    "import numpy as np\n",
    "import matplotlib.pyplot as plt\n",
    "import seaborn as sns\n",
    "import plotly.express as px\n",
    "import mplcyberpunk"
   ]
  },
  {
   "cell_type": "markdown",
   "metadata": {},
   "source": [
    "## Load Data"
   ]
  },
  {
   "cell_type": "code",
   "execution_count": 159,
   "metadata": {},
   "outputs": [],
   "source": [
    "# import the dataset\n",
    "df = pd.read_csv(\"cars.csv\")"
   ]
  },
  {
   "cell_type": "markdown",
   "metadata": {},
   "source": [
    "# Exploratory Data Analysis  (EDA)"
   ]
  },
  {
   "cell_type": "code",
   "execution_count": 160,
   "metadata": {},
   "outputs": [
    {
     "data": {
      "text/html": [
       "<div>\n",
       "<style scoped>\n",
       "    .dataframe tbody tr th:only-of-type {\n",
       "        vertical-align: middle;\n",
       "    }\n",
       "\n",
       "    .dataframe tbody tr th {\n",
       "        vertical-align: top;\n",
       "    }\n",
       "\n",
       "    .dataframe thead th {\n",
       "        text-align: right;\n",
       "    }\n",
       "</style>\n",
       "<table border=\"1\" class=\"dataframe\">\n",
       "  <thead>\n",
       "    <tr style=\"text-align: right;\">\n",
       "      <th></th>\n",
       "      <th>Unnamed: 0</th>\n",
       "      <th>Make</th>\n",
       "      <th>Type</th>\n",
       "      <th>Year</th>\n",
       "      <th>Origin</th>\n",
       "      <th>Color</th>\n",
       "      <th>Options</th>\n",
       "      <th>Engine_Size</th>\n",
       "      <th>Fuel_Type</th>\n",
       "      <th>Gear_Type</th>\n",
       "      <th>Mileage</th>\n",
       "      <th>Region</th>\n",
       "      <th>Price</th>\n",
       "      <th>Negotiable</th>\n",
       "    </tr>\n",
       "  </thead>\n",
       "  <tbody>\n",
       "    <tr>\n",
       "      <th>0</th>\n",
       "      <td>6153</td>\n",
       "      <td>Toyota</td>\n",
       "      <td>Camry</td>\n",
       "      <td>2020</td>\n",
       "      <td>Saudi</td>\n",
       "      <td>Brown</td>\n",
       "      <td>Semi Full</td>\n",
       "      <td>2.5</td>\n",
       "      <td>Gas</td>\n",
       "      <td>Automatic</td>\n",
       "      <td>38000</td>\n",
       "      <td>Riyadh</td>\n",
       "      <td>1364</td>\n",
       "      <td>False</td>\n",
       "    </tr>\n",
       "    <tr>\n",
       "      <th>1</th>\n",
       "      <td>4434</td>\n",
       "      <td>Toyota</td>\n",
       "      <td>FJ</td>\n",
       "      <td>2012</td>\n",
       "      <td>Saudi</td>\n",
       "      <td>Black</td>\n",
       "      <td>Full</td>\n",
       "      <td>4.0</td>\n",
       "      <td>Gas</td>\n",
       "      <td>Automatic</td>\n",
       "      <td>35000</td>\n",
       "      <td>Riyadh</td>\n",
       "      <td>70000</td>\n",
       "      <td>False</td>\n",
       "    </tr>\n",
       "    <tr>\n",
       "      <th>2</th>\n",
       "      <td>3537</td>\n",
       "      <td>Chevrolet</td>\n",
       "      <td>Suburban</td>\n",
       "      <td>2009</td>\n",
       "      <td>Saudi</td>\n",
       "      <td>White</td>\n",
       "      <td>Standard</td>\n",
       "      <td>5.3</td>\n",
       "      <td>Gas</td>\n",
       "      <td>Automatic</td>\n",
       "      <td>255</td>\n",
       "      <td>Riyadh</td>\n",
       "      <td>36000</td>\n",
       "      <td>False</td>\n",
       "    </tr>\n",
       "    <tr>\n",
       "      <th>3</th>\n",
       "      <td>1666</td>\n",
       "      <td>Ford</td>\n",
       "      <td>Explorer</td>\n",
       "      <td>2016</td>\n",
       "      <td>Other</td>\n",
       "      <td>White</td>\n",
       "      <td>Full</td>\n",
       "      <td>3.5</td>\n",
       "      <td>Gas</td>\n",
       "      <td>Automatic</td>\n",
       "      <td>128644</td>\n",
       "      <td>Riyadh</td>\n",
       "      <td>118000</td>\n",
       "      <td>False</td>\n",
       "    </tr>\n",
       "    <tr>\n",
       "      <th>4</th>\n",
       "      <td>3513</td>\n",
       "      <td>Toyota</td>\n",
       "      <td>Corolla</td>\n",
       "      <td>2018</td>\n",
       "      <td>Saudi</td>\n",
       "      <td>White</td>\n",
       "      <td>Standard</td>\n",
       "      <td>1.6</td>\n",
       "      <td>Gas</td>\n",
       "      <td>Automatic</td>\n",
       "      <td>19190</td>\n",
       "      <td>Jeddah</td>\n",
       "      <td>55000</td>\n",
       "      <td>False</td>\n",
       "    </tr>\n",
       "  </tbody>\n",
       "</table>\n",
       "</div>"
      ],
      "text/plain": [
       "   Unnamed: 0       Make      Type  Year Origin  Color    Options  \\\n",
       "0        6153     Toyota     Camry  2020  Saudi  Brown  Semi Full   \n",
       "1        4434     Toyota        FJ  2012  Saudi  Black       Full   \n",
       "2        3537  Chevrolet  Suburban  2009  Saudi  White   Standard   \n",
       "3        1666       Ford  Explorer  2016  Other  White       Full   \n",
       "4        3513     Toyota   Corolla  2018  Saudi  White   Standard   \n",
       "\n",
       "   Engine_Size Fuel_Type  Gear_Type  Mileage  Region   Price  Negotiable  \n",
       "0          2.5       Gas  Automatic    38000  Riyadh    1364       False  \n",
       "1          4.0       Gas  Automatic    35000  Riyadh   70000       False  \n",
       "2          5.3       Gas  Automatic      255  Riyadh   36000       False  \n",
       "3          3.5       Gas  Automatic   128644  Riyadh  118000       False  \n",
       "4          1.6       Gas  Automatic    19190  Jeddah   55000       False  "
      ]
     },
     "execution_count": 160,
     "metadata": {},
     "output_type": "execute_result"
    }
   ],
   "source": [
    "df.head()"
   ]
  },
  {
   "cell_type": "code",
   "execution_count": 161,
   "metadata": {},
   "outputs": [
    {
     "data": {
      "text/plain": [
       "(6428, 14)"
      ]
     },
     "execution_count": 161,
     "metadata": {},
     "output_type": "execute_result"
    }
   ],
   "source": [
    "# How many rows and columns?\n",
    "df.shape"
   ]
  },
  {
   "cell_type": "code",
   "execution_count": 162,
   "metadata": {},
   "outputs": [
    {
     "data": {
      "text/plain": [
       "Index(['Unnamed: 0', 'Make', 'Type', 'Year', 'Origin', 'Color', 'Options',\n",
       "       'Engine_Size', 'Fuel_Type', 'Gear_Type', 'Mileage', 'Region', 'Price',\n",
       "       'Negotiable'],\n",
       "      dtype='object')"
      ]
     },
     "execution_count": 162,
     "metadata": {},
     "output_type": "execute_result"
    }
   ],
   "source": [
    "# What are the column names?\n",
    "df.columns"
   ]
  },
  {
   "cell_type": "markdown",
   "metadata": {},
   "source": [
    "#### The features in the dataset\n",
    "- Make: Car company'name\n",
    "- Type: Car type\n",
    "- Year: Production year\n",
    "- Origin: If  it from Saudi Arabia or Gulf countries or other\n",
    "- Color: Car color\n",
    "- Options: Full, Semi Full, Standard\n",
    "- Engine_Size\n",
    "- Fule_Type: Gas, Diesel, Hybrid\n",
    "- Gear_Type: Automatic, Manual\n",
    "- Mileage: the distance travel\n",
    "- Region: the region of the car\n",
    "- Price: price of the car\n",
    "- Negotiable: (True/False) if the price is negotiable"
   ]
  },
  {
   "cell_type": "code",
   "execution_count": 163,
   "metadata": {
    "scrolled": true
   },
   "outputs": [
    {
     "data": {
      "text/html": [
       "<div>\n",
       "<style scoped>\n",
       "    .dataframe tbody tr th:only-of-type {\n",
       "        vertical-align: middle;\n",
       "    }\n",
       "\n",
       "    .dataframe tbody tr th {\n",
       "        vertical-align: top;\n",
       "    }\n",
       "\n",
       "    .dataframe thead th {\n",
       "        text-align: right;\n",
       "    }\n",
       "</style>\n",
       "<table border=\"1\" class=\"dataframe\">\n",
       "  <thead>\n",
       "    <tr style=\"text-align: right;\">\n",
       "      <th></th>\n",
       "      <th>Unnamed: 0</th>\n",
       "      <th>Year</th>\n",
       "      <th>Engine_Size</th>\n",
       "      <th>Mileage</th>\n",
       "      <th>Price</th>\n",
       "    </tr>\n",
       "  </thead>\n",
       "  <tbody>\n",
       "    <tr>\n",
       "      <th>count</th>\n",
       "      <td>6428.000000</td>\n",
       "      <td>6428.000000</td>\n",
       "      <td>6428.000000</td>\n",
       "      <td>6.428000e+03</td>\n",
       "      <td>6.428000e+03</td>\n",
       "    </tr>\n",
       "    <tr>\n",
       "      <th>mean</th>\n",
       "      <td>4001.298538</td>\n",
       "      <td>2014.120566</td>\n",
       "      <td>3.299284</td>\n",
       "      <td>1.476798e+05</td>\n",
       "      <td>5.395469e+04</td>\n",
       "    </tr>\n",
       "    <tr>\n",
       "      <th>std</th>\n",
       "      <td>2308.032075</td>\n",
       "      <td>5.690005</td>\n",
       "      <td>1.523697</td>\n",
       "      <td>3.582324e+05</td>\n",
       "      <td>7.300146e+04</td>\n",
       "    </tr>\n",
       "    <tr>\n",
       "      <th>min</th>\n",
       "      <td>0.000000</td>\n",
       "      <td>1964.000000</td>\n",
       "      <td>1.000000</td>\n",
       "      <td>1.000000e+02</td>\n",
       "      <td>0.000000e+00</td>\n",
       "    </tr>\n",
       "    <tr>\n",
       "      <th>25%</th>\n",
       "      <td>2003.750000</td>\n",
       "      <td>2012.000000</td>\n",
       "      <td>2.000000</td>\n",
       "      <td>3.700000e+04</td>\n",
       "      <td>0.000000e+00</td>\n",
       "    </tr>\n",
       "    <tr>\n",
       "      <th>50%</th>\n",
       "      <td>3998.500000</td>\n",
       "      <td>2016.000000</td>\n",
       "      <td>3.000000</td>\n",
       "      <td>1.018995e+05</td>\n",
       "      <td>3.700000e+04</td>\n",
       "    </tr>\n",
       "    <tr>\n",
       "      <th>75%</th>\n",
       "      <td>5979.250000</td>\n",
       "      <td>2018.000000</td>\n",
       "      <td>4.500000</td>\n",
       "      <td>1.950000e+05</td>\n",
       "      <td>7.300000e+04</td>\n",
       "    </tr>\n",
       "    <tr>\n",
       "      <th>max</th>\n",
       "      <td>8034.000000</td>\n",
       "      <td>2022.000000</td>\n",
       "      <td>9.000000</td>\n",
       "      <td>2.000000e+07</td>\n",
       "      <td>1.150000e+06</td>\n",
       "    </tr>\n",
       "  </tbody>\n",
       "</table>\n",
       "</div>"
      ],
      "text/plain": [
       "        Unnamed: 0         Year  Engine_Size       Mileage         Price\n",
       "count  6428.000000  6428.000000  6428.000000  6.428000e+03  6.428000e+03\n",
       "mean   4001.298538  2014.120566     3.299284  1.476798e+05  5.395469e+04\n",
       "std    2308.032075     5.690005     1.523697  3.582324e+05  7.300146e+04\n",
       "min       0.000000  1964.000000     1.000000  1.000000e+02  0.000000e+00\n",
       "25%    2003.750000  2012.000000     2.000000  3.700000e+04  0.000000e+00\n",
       "50%    3998.500000  2016.000000     3.000000  1.018995e+05  3.700000e+04\n",
       "75%    5979.250000  2018.000000     4.500000  1.950000e+05  7.300000e+04\n",
       "max    8034.000000  2022.000000     9.000000  2.000000e+07  1.150000e+06"
      ]
     },
     "execution_count": 163,
     "metadata": {},
     "output_type": "execute_result"
    }
   ],
   "source": [
    "# Show a quick summary statistics of the numerical variables we have\n",
    "df.describe()"
   ]
  },
  {
   "cell_type": "markdown",
   "metadata": {},
   "source": [
    "<ui>We could notice that: </ui>\n",
    "<li>\n",
    "The year of the used cars in our dataset are from 1964 until 2022, Wheras 75% of the cars were from 2018 and older.  </li>\n",
    "\n",
    "<li>The engine size ranging between 1-litre and 9-litre.</li>\n",
    "\n",
    "<li>The Mileage is started from 100 to 20000000.</li>\n",
    "\n",
    "<li>The price ranging from 0 to 1150000. </li>\n",
    "\n"
   ]
  },
  {
   "cell_type": "code",
   "execution_count": 164,
   "metadata": {},
   "outputs": [
    {
     "data": {
      "text/plain": [
       "Unnamed: 0     0\n",
       "Make           0\n",
       "Type           0\n",
       "Year           0\n",
       "Origin         0\n",
       "Color          0\n",
       "Options        0\n",
       "Engine_Size    0\n",
       "Fuel_Type      0\n",
       "Gear_Type      0\n",
       "Mileage        0\n",
       "Region         0\n",
       "Price          0\n",
       "Negotiable     0\n",
       "dtype: int64"
      ]
     },
     "execution_count": 164,
     "metadata": {},
     "output_type": "execute_result"
    }
   ],
   "source": [
    "#checking for total null values\n",
    "df.isnull().sum() "
   ]
  },
  {
   "cell_type": "code",
   "execution_count": 165,
   "metadata": {},
   "outputs": [
    {
     "name": "stdout",
     "output_type": "stream",
     "text": [
      "<class 'pandas.core.frame.DataFrame'>\n",
      "RangeIndex: 6428 entries, 0 to 6427\n",
      "Data columns (total 14 columns):\n",
      " #   Column       Non-Null Count  Dtype  \n",
      "---  ------       --------------  -----  \n",
      " 0   Unnamed: 0   6428 non-null   int64  \n",
      " 1   Make         6428 non-null   object \n",
      " 2   Type         6428 non-null   object \n",
      " 3   Year         6428 non-null   int64  \n",
      " 4   Origin       6428 non-null   object \n",
      " 5   Color        6428 non-null   object \n",
      " 6   Options      6428 non-null   object \n",
      " 7   Engine_Size  6428 non-null   float64\n",
      " 8   Fuel_Type    6428 non-null   object \n",
      " 9   Gear_Type    6428 non-null   object \n",
      " 10  Mileage      6428 non-null   int64  \n",
      " 11  Region       6428 non-null   object \n",
      " 12  Price        6428 non-null   int64  \n",
      " 13  Negotiable   6428 non-null   bool   \n",
      "dtypes: bool(1), float64(1), int64(4), object(8)\n",
      "memory usage: 659.2+ KB\n"
     ]
    }
   ],
   "source": [
    "# what are the types of values in each column?\n",
    "df.info()"
   ]
  },
  {
   "cell_type": "code",
   "execution_count": 166,
   "metadata": {},
   "outputs": [
    {
     "data": {
      "text/html": [
       "<div>\n",
       "<style scoped>\n",
       "    .dataframe tbody tr th:only-of-type {\n",
       "        vertical-align: middle;\n",
       "    }\n",
       "\n",
       "    .dataframe tbody tr th {\n",
       "        vertical-align: top;\n",
       "    }\n",
       "\n",
       "    .dataframe thead th {\n",
       "        text-align: right;\n",
       "    }\n",
       "</style>\n",
       "<table border=\"1\" class=\"dataframe\">\n",
       "  <thead>\n",
       "    <tr style=\"text-align: right;\">\n",
       "      <th></th>\n",
       "      <th>Unnamed: 0</th>\n",
       "      <th>Make</th>\n",
       "      <th>Type</th>\n",
       "      <th>Year</th>\n",
       "      <th>Origin</th>\n",
       "      <th>Color</th>\n",
       "      <th>Options</th>\n",
       "      <th>Engine_Size</th>\n",
       "      <th>Fuel_Type</th>\n",
       "      <th>Gear_Type</th>\n",
       "      <th>Mileage</th>\n",
       "      <th>Region</th>\n",
       "      <th>Price</th>\n",
       "      <th>Negotiable</th>\n",
       "    </tr>\n",
       "  </thead>\n",
       "  <tbody>\n",
       "    <tr>\n",
       "      <th>6423</th>\n",
       "      <td>6017</td>\n",
       "      <td>Mercedes</td>\n",
       "      <td>CLS</td>\n",
       "      <td>2014</td>\n",
       "      <td>Saudi</td>\n",
       "      <td>Brown</td>\n",
       "      <td>Full</td>\n",
       "      <td>3.5</td>\n",
       "      <td>Gas</td>\n",
       "      <td>Automatic</td>\n",
       "      <td>130</td>\n",
       "      <td>Jeddah</td>\n",
       "      <td>100000</td>\n",
       "      <td>False</td>\n",
       "    </tr>\n",
       "    <tr>\n",
       "      <th>6424</th>\n",
       "      <td>709</td>\n",
       "      <td>GMC</td>\n",
       "      <td>Acadia</td>\n",
       "      <td>2014</td>\n",
       "      <td>Saudi</td>\n",
       "      <td>Red</td>\n",
       "      <td>Full</td>\n",
       "      <td>3.6</td>\n",
       "      <td>Gas</td>\n",
       "      <td>Automatic</td>\n",
       "      <td>250000</td>\n",
       "      <td>Khobar</td>\n",
       "      <td>50000</td>\n",
       "      <td>False</td>\n",
       "    </tr>\n",
       "    <tr>\n",
       "      <th>6425</th>\n",
       "      <td>2487</td>\n",
       "      <td>Audi</td>\n",
       "      <td>Q5</td>\n",
       "      <td>2018</td>\n",
       "      <td>Saudi</td>\n",
       "      <td>Another Color</td>\n",
       "      <td>Standard</td>\n",
       "      <td>2.5</td>\n",
       "      <td>Gas</td>\n",
       "      <td>Automatic</td>\n",
       "      <td>17000</td>\n",
       "      <td>Jeddah</td>\n",
       "      <td>138000</td>\n",
       "      <td>False</td>\n",
       "    </tr>\n",
       "    <tr>\n",
       "      <th>6426</th>\n",
       "      <td>174</td>\n",
       "      <td>Renault</td>\n",
       "      <td>Symbol</td>\n",
       "      <td>2020</td>\n",
       "      <td>Saudi</td>\n",
       "      <td>White</td>\n",
       "      <td>Standard</td>\n",
       "      <td>1.6</td>\n",
       "      <td>Gas</td>\n",
       "      <td>Automatic</td>\n",
       "      <td>46505</td>\n",
       "      <td>Riyadh</td>\n",
       "      <td>26000</td>\n",
       "      <td>False</td>\n",
       "    </tr>\n",
       "    <tr>\n",
       "      <th>6427</th>\n",
       "      <td>1146</td>\n",
       "      <td>Ford</td>\n",
       "      <td>Expedition</td>\n",
       "      <td>2006</td>\n",
       "      <td>Other</td>\n",
       "      <td>Black</td>\n",
       "      <td>Full</td>\n",
       "      <td>5.4</td>\n",
       "      <td>Gas</td>\n",
       "      <td>Automatic</td>\n",
       "      <td>341</td>\n",
       "      <td>Al-Jouf</td>\n",
       "      <td>0</td>\n",
       "      <td>True</td>\n",
       "    </tr>\n",
       "  </tbody>\n",
       "</table>\n",
       "</div>"
      ],
      "text/plain": [
       "      Unnamed: 0      Make        Type  Year Origin          Color   Options  \\\n",
       "6423        6017  Mercedes         CLS  2014  Saudi          Brown      Full   \n",
       "6424         709       GMC      Acadia  2014  Saudi            Red      Full   \n",
       "6425        2487      Audi          Q5  2018  Saudi  Another Color  Standard   \n",
       "6426         174   Renault      Symbol  2020  Saudi          White  Standard   \n",
       "6427        1146      Ford  Expedition  2006  Other          Black      Full   \n",
       "\n",
       "      Engine_Size Fuel_Type  Gear_Type  Mileage   Region   Price  Negotiable  \n",
       "6423          3.5       Gas  Automatic      130   Jeddah  100000       False  \n",
       "6424          3.6       Gas  Automatic   250000   Khobar   50000       False  \n",
       "6425          2.5       Gas  Automatic    17000   Jeddah  138000       False  \n",
       "6426          1.6       Gas  Automatic    46505   Riyadh   26000       False  \n",
       "6427          5.4       Gas  Automatic      341  Al-Jouf       0        True  "
      ]
     },
     "execution_count": 166,
     "metadata": {},
     "output_type": "execute_result"
    }
   ],
   "source": [
    "# show the last 5 rows of the dataset\n",
    "df.tail(5)"
   ]
  },
  {
   "cell_type": "code",
   "execution_count": 167,
   "metadata": {},
   "outputs": [
    {
     "data": {
      "text/plain": [
       "0"
      ]
     },
     "execution_count": 167,
     "metadata": {},
     "output_type": "execute_result"
    }
   ],
   "source": [
    "# check if there's any duplicated row\n",
    "df.duplicated().sum()\n"
   ]
  },
  {
   "cell_type": "markdown",
   "metadata": {},
   "source": [
    "## 1. Popularity of the Car brands"
   ]
  },
  {
   "cell_type": "code",
   "execution_count": 168,
   "metadata": {
    "scrolled": true
   },
   "outputs": [
    {
     "data": {
      "text/plain": [
       "59"
      ]
     },
     "execution_count": 168,
     "metadata": {},
     "output_type": "execute_result"
    }
   ],
   "source": [
    "# how many unique value in Make column\n",
    "df.Make.nunique()"
   ]
  },
  {
   "cell_type": "code",
   "execution_count": 169,
   "metadata": {},
   "outputs": [
    {
     "data": {
      "image/png": "[encoded data removed]",
      "text/plain": [
       "<Figure size 1080x576 with 1 Axes>"
      ]
     },
     "metadata": {},
     "output_type": "display_data"
    }
   ],
   "source": [
    "# Bar chart for Top 10 Most Popular of the Used Car Brands\n",
    "x = df['Make'].value_counts().head(10).index\n",
    "y = df['Make'].value_counts().head(10)\n",
    "\n",
    "plt.style.use('seaborn-darkgrid')\n",
    "plt.figure(figsize=(15,8))\n",
    "plt.xticks( color ='#081d58',fontsize=12)\n",
    "plt.yticks(color ='#081d58',fontsize=12)\n",
    "plt.bar(x, y, color= ('#7fcdbb'), width=0.6)\n",
    "plt.xlabel('Car Brands',fontsize=20, color ='#081d58')\n",
    "plt.ylabel(' Number of Cars',fontsize=20, color ='#081d58')\n",
    "plt.title('Top 10 Most Popular of the Used Car Brands',fontsize=22, color ='#081d58');"
   ]
  },
  {
   "cell_type": "markdown",
   "metadata": {},
   "source": [
    "From the bar chart above, we can see that **Toyota** is the most common car make in our dataset."
   ]
  },
  {
   "cell_type": "markdown",
   "metadata": {},
   "source": [
    "## 2. Popularity of the Car Type"
   ]
  },
  {
   "cell_type": "code",
   "execution_count": 170,
   "metadata": {},
   "outputs": [
    {
     "data": {
      "text/plain": [
       "356"
      ]
     },
     "execution_count": 170,
     "metadata": {},
     "output_type": "execute_result"
    }
   ],
   "source": [
    "# how many unique value in Type column\n",
    "df.Type.nunique()"
   ]
  },
  {
   "cell_type": "code",
   "execution_count": 171,
   "metadata": {},
   "outputs": [
    {
     "data": {
      "image/png": "[encoded data removed]",
      "text/plain": [
       "<Figure size 1080x576 with 1 Axes>"
      ]
     },
     "metadata": {},
     "output_type": "display_data"
    }
   ],
   "source": [
    "# Bar chart for Top 10 Most Popular of the Used Car Type\n",
    "x = df['Type'].value_counts().head(10).index\n",
    "y = df['Type'].value_counts().head(10)\n",
    "\n",
    "plt.style.use('seaborn-darkgrid')\n",
    "plt.figure(figsize=(15,8))\n",
    "plt.xticks( color ='#081d58',fontsize=12)\n",
    "plt.yticks(color ='#081d58',fontsize=12)\n",
    "plt.bar(x, y, color= ('#7fcdbb'), width=0.6)\n",
    "plt.xlabel('Car Type',fontsize=20, color ='#081d58')\n",
    "plt.ylabel(' Number of Cars',fontsize=20, color ='#081d58')\n",
    "plt.title('Top 10 Most Popular of the Used Car Type',fontsize=22, color ='#081d58');"
   ]
  },
  {
   "cell_type": "markdown",
   "metadata": {},
   "source": [
    "From the bar chart above, we can see that **Land Cruiser** is the most common car type in our dataset."
   ]
  },
  {
   "cell_type": "markdown",
   "metadata": {},
   "source": [
    "## 3. What are the most popular years of the cars"
   ]
  },
  {
   "cell_type": "code",
   "execution_count": 172,
   "metadata": {},
   "outputs": [
    {
     "data": {
      "text/plain": [
       "array([2020, 2012, 2009, 2016, 2018, 2003, 1998, 2013, 2017, 2010, 2014,\n",
       "       2019, 2015, 2002, 2006, 2001, 2021, 2007, 2008, 2011, 2004, 2005,\n",
       "       1983, 1990, 1999, 1985, 1996, 1997, 1995, 2000, 1994, 1986, 1989,\n",
       "       1991, 1993, 1992, 1979, 1977, 1972, 1970, 1988, 1964, 1978, 2022,\n",
       "       1975, 1987, 1980, 1981, 1982, 1965, 1984], dtype=int64)"
      ]
     },
     "execution_count": 172,
     "metadata": {},
     "output_type": "execute_result"
    }
   ],
   "source": [
    "# what are the unique value in Year column\n",
    "df.Year.unique()"
   ]
  },
  {
   "cell_type": "code",
   "execution_count": 173,
   "metadata": {
    "scrolled": false
   },
   "outputs": [
    {
     "data": {
      "text/plain": [
       "other    27.613566\n",
       "2016     14.810205\n",
       "2017     10.112010\n",
       "2015      9.769757\n",
       "2018      9.738643\n",
       "2019      7.685128\n",
       "2014      7.016179\n",
       "2020      6.907281\n",
       "2013      6.347231\n",
       "Name: Year, dtype: float64"
      ]
     },
     "execution_count": 173,
     "metadata": {},
     "output_type": "execute_result"
    }
   ],
   "source": [
    "# normalize the year of the cars\n",
    "freq = df.Year.value_counts(normalize=True)\n",
    "#replace the small categories to \"other\"\n",
    "year_updated = df.Year.replace(freq[freq<0.05].index , \"other\")\n",
    "\n",
    "# Check after the edit (print with percentage )\n",
    "year_updated.value_counts(normalize=True).mul(100)"
   ]
  },
  {
   "cell_type": "markdown",
   "metadata": {},
   "source": [
    " As we can see from the above output, **year 2016 followed by 2017** are the most common production year of the used car in our dataset. **Which represent almost a quarter of our dataset**."
   ]
  },
  {
   "cell_type": "code",
   "execution_count": 174,
   "metadata": {},
   "outputs": [
    {
     "data": {
      "image/png": "[encoded data removed]",
      "text/plain": [
       "<Figure size 1080x576 with 1 Axes>"
      ]
     },
     "metadata": {},
     "output_type": "display_data"
    }
   ],
   "source": [
    "# histogram to show the production year of the cars\n",
    "plt.figure(figsize=(15,8))\n",
    "df.Year.hist(color='#7fcdbb')\n",
    "plt.xticks( color ='#081d58',fontsize=12)\n",
    "plt.yticks(color ='#081d58',fontsize=12)\n",
    "plt.xlabel('Proudction Year',fontsize=20, color ='#081d58')\n",
    "plt.ylabel(' Number of Cars',fontsize=20, color ='#081d58')\n",
    "plt.title('Proudction Year of Car',fontsize=22, color ='#081d58');"
   ]
  },
  {
   "cell_type": "markdown",
   "metadata": {},
   "source": [
    "## 4. From where the cars have been bought for the first time?"
   ]
  },
  {
   "cell_type": "code",
   "execution_count": 175,
   "metadata": {},
   "outputs": [
    {
     "data": {
      "text/plain": [
       "array(['Saudi', 'Other', 'Gulf Arabic', 'Unknown'], dtype=object)"
      ]
     },
     "execution_count": 175,
     "metadata": {},
     "output_type": "execute_result"
    }
   ],
   "source": [
    "# what are the unique value in Origin column\n",
    "df.Origin.unique()"
   ]
  },
  {
   "cell_type": "code",
   "execution_count": 176,
   "metadata": {},
   "outputs": [
    {
     "data": {
      "image/png": "[encoded data removed]",
      "text/plain": [
       "<Figure size 1080x576 with 1 Axes>"
      ]
     },
     "metadata": {},
     "output_type": "display_data"
    }
   ],
   "source": [
    "# Bar chart for the Origin of the cars\n",
    "x = df['Origin'].value_counts().index\n",
    "y = df['Origin'].value_counts()\n",
    "\n",
    "plt.style.use('seaborn-darkgrid')\n",
    "plt.figure(figsize=(15,8))\n",
    "plt.xticks( color ='#081d58',fontsize=12)\n",
    "plt.yticks(color ='#081d58',fontsize=12)\n",
    "plt.bar(x, y, color= ('#7fcdbb'), width=0.6)\n",
    "plt.xlabel('Car Origin',fontsize=20, color ='#081d58')\n",
    "plt.ylabel(' Number of Cars',fontsize=20, color ='#081d58')\n",
    "plt.title('The Origin of the cars',fontsize=22, color ='#081d58');"
   ]
  },
  {
   "cell_type": "markdown",
   "metadata": {},
   "source": [
    "From the bar chart above, we can see that more than 4500 cars have been bought from **Saudi** then from the Gulf arabic countries then Other."
   ]
  },
  {
   "cell_type": "code",
   "execution_count": 177,
   "metadata": {},
   "outputs": [
    {
     "data": {
      "text/plain": [
       "Unknown    69\n",
       "Name: Origin, dtype: int64"
      ]
     },
     "execution_count": 177,
     "metadata": {},
     "output_type": "execute_result"
    }
   ],
   "source": [
    "# check the Origin for Unknown\n",
    "df[df.Origin == 'Unknown'].Origin.value_counts()"
   ]
  },
  {
   "cell_type": "markdown",
   "metadata": {},
   "source": [
    "<p><b>ASK THE TEAM:</b></p>\n",
    "\n",
    "**WHAT TO DO WITH THESE UNKNOWN 69 ROWS !!!**"
   ]
  },
  {
   "cell_type": "markdown",
   "metadata": {},
   "source": [
    "## 5. Popularity of the Car Colors"
   ]
  },
  {
   "cell_type": "code",
   "execution_count": 178,
   "metadata": {},
   "outputs": [
    {
     "data": {
      "text/plain": [
       "15"
      ]
     },
     "execution_count": 178,
     "metadata": {},
     "output_type": "execute_result"
    }
   ],
   "source": [
    "# what are the unique value in Color column\n",
    "df.Color.nunique()"
   ]
  },
  {
   "cell_type": "code",
   "execution_count": 179,
   "metadata": {},
   "outputs": [
    {
     "data": {
      "image/png": "[encoded data removed]",
      "text/plain": [
       "<Figure size 1296x792 with 1 Axes>"
      ]
     },
     "metadata": {},
     "output_type": "display_data"
    }
   ],
   "source": [
    "# Bar chart for the Color of the cars\n",
    "x = df['Color'].value_counts().index\n",
    "y = df['Color'].value_counts()\n",
    "\n",
    "plt.style.use('seaborn-darkgrid')\n",
    "plt.figure(figsize=(18,11))\n",
    "plt.xticks( color ='#081d58',fontsize=12)\n",
    "plt.yticks(color ='#081d58',fontsize=12)\n",
    "plt.bar(x, y, color= ('#7fcdbb'), width=0.6)\n",
    "plt.xlabel('Car Color',fontsize=20, color ='#081d58')\n",
    "plt.ylabel(' Number of Cars',fontsize=20, color ='#081d58')\n",
    "plt.title('The Color of the cars',fontsize=22, color ='#081d58');"
   ]
  },
  {
   "cell_type": "markdown",
   "metadata": {},
   "source": [
    "From the bar chart above, we can see that **the White color** is preferred in Saudi! it is the most common car color in our dataset with more than 2500 white car."
   ]
  },
  {
   "cell_type": "markdown",
   "metadata": {},
   "source": [
    "## 6. The car type of option"
   ]
  },
  {
   "cell_type": "code",
   "execution_count": 180,
   "metadata": {},
   "outputs": [
    {
     "data": {
      "text/plain": [
       "3"
      ]
     },
     "execution_count": 180,
     "metadata": {},
     "output_type": "execute_result"
    }
   ],
   "source": [
    "# how many unique value in Options column\n",
    "df.Options.nunique()"
   ]
  },
  {
   "cell_type": "code",
   "execution_count": 181,
   "metadata": {},
   "outputs": [
    {
     "data": {
      "image/png": "[encoded data removed]",
      "text/plain": [
       "<Figure size 1080x576 with 1 Axes>"
      ]
     },
     "metadata": {},
     "output_type": "display_data"
    }
   ],
   "source": [
    "# Bar chart for the Options of the cars\n",
    "x = df['Options'].value_counts().index\n",
    "y = df['Options'].value_counts()\n",
    "\n",
    "plt.style.use('seaborn-darkgrid')\n",
    "plt.figure(figsize=(15,8))\n",
    "plt.xticks( color ='#081d58',fontsize=12)\n",
    "plt.yticks(color ='#081d58',fontsize=12)\n",
    "plt.bar(x, y, color= ('#7fcdbb'), width=0.6)\n",
    "plt.xlabel('Car Options',fontsize=20, color ='#081d58')\n",
    "plt.ylabel(' Number of Cars',fontsize=20, color ='#081d58')\n",
    "plt.title('The type of options of the cars',fontsize=22, color ='#081d58');"
   ]
  },
  {
   "cell_type": "markdown",
   "metadata": {},
   "source": [
    "Most of the car is **Full Option** in the dataset."
   ]
  },
  {
   "cell_type": "markdown",
   "metadata": {},
   "source": [
    "## 7. The engine size of the car"
   ]
  },
  {
   "cell_type": "code",
   "execution_count": 182,
   "metadata": {},
   "outputs": [
    {
     "data": {
      "text/plain": [
       "74"
      ]
     },
     "execution_count": 182,
     "metadata": {},
     "output_type": "execute_result"
    }
   ],
   "source": [
    "# what are the unique value in Engine_Size column\n",
    "df.Engine_Size.nunique()"
   ]
  },
  {
   "cell_type": "code",
   "execution_count": 183,
   "metadata": {},
   "outputs": [
    {
     "data": {
      "text/plain": [
       "count    6428.000000\n",
       "mean        3.299284\n",
       "std         1.523697\n",
       "min         1.000000\n",
       "25%         2.000000\n",
       "50%         3.000000\n",
       "75%         4.500000\n",
       "max         9.000000\n",
       "Name: Engine_Size, dtype: float64"
      ]
     },
     "execution_count": 183,
     "metadata": {},
     "output_type": "execute_result"
    }
   ],
   "source": [
    "# summary statistics of Engine_Size column\n",
    "df.Engine_Size.describe()"
   ]
  },
  {
   "cell_type": "code",
   "execution_count": 184,
   "metadata": {},
   "outputs": [
    {
     "data": {
      "image/png": "[encoded data removed]",
      "text/plain": [
       "<Figure size 1080x576 with 1 Axes>"
      ]
     },
     "metadata": {},
     "output_type": "display_data"
    }
   ],
   "source": [
    "# histogram to show the production year of the cars\n",
    "plt.figure(figsize=(15,8))\n",
    "df.Engine_Size.hist(color='#7fcdbb')\n",
    "plt.xticks( color ='#081d58',fontsize=12)\n",
    "plt.yticks(color ='#081d58',fontsize=12)\n",
    "plt.xlabel('Car Engine Size',fontsize=20, color ='#081d58')\n",
    "plt.ylabel(' Number of Cars',fontsize=20, color ='#081d58')\n",
    "plt.title('The engine size of the car',fontsize=22, color ='#081d58');"
   ]
  },
  {
   "cell_type": "markdown",
   "metadata": {},
   "source": [
    "## 8. The fuel type of cars"
   ]
  },
  {
   "cell_type": "code",
   "execution_count": 185,
   "metadata": {},
   "outputs": [
    {
     "data": {
      "text/plain": [
       "3"
      ]
     },
     "execution_count": 185,
     "metadata": {},
     "output_type": "execute_result"
    }
   ],
   "source": [
    "# how many unique value in Fuel_Type column\n",
    "df.Fuel_Type.nunique()"
   ]
  },
  {
   "cell_type": "code",
   "execution_count": 186,
   "metadata": {},
   "outputs": [
    {
     "data": {
      "image/png": "[encoded data removed]",
      "text/plain": [
       "<Figure size 1080x576 with 1 Axes>"
      ]
     },
     "metadata": {},
     "output_type": "display_data"
    }
   ],
   "source": [
    "# Bar chart for the fuel type of the cars\n",
    "x = df['Fuel_Type'].value_counts().index\n",
    "y = df['Fuel_Type'].value_counts()\n",
    "\n",
    "plt.style.use('seaborn-darkgrid')\n",
    "plt.figure(figsize=(15,8))\n",
    "plt.xticks( color ='#081d58',fontsize=12)\n",
    "plt.yticks(color ='#081d58',fontsize=12)\n",
    "plt.bar(x, y, color= ('#7fcdbb'), width=0.6)\n",
    "plt.xlabel('Fuel type',fontsize=20, color ='#081d58')\n",
    "plt.ylabel(' Number of Cars',fontsize=20, color ='#081d58')\n",
    "plt.title('The car type of fuel',fontsize=22, color ='#081d58');"
   ]
  },
  {
   "cell_type": "code",
   "execution_count": 187,
   "metadata": {},
   "outputs": [
    {
     "data": {
      "text/plain": [
       "count     6428\n",
       "unique       3\n",
       "top        Gas\n",
       "freq      6290\n",
       "Name: Fuel_Type, dtype: object"
      ]
     },
     "execution_count": 187,
     "metadata": {},
     "output_type": "execute_result"
    }
   ],
   "source": [
    "# summary of Fuel_Type column\n",
    "df.Fuel_Type.describe()"
   ]
  },
  {
   "cell_type": "markdown",
   "metadata": {},
   "source": [
    "From the above outputs, we can say that **Gas** is the most fuel type in the dataset with 6290 cars with Gas fuel type, where as the rest 138 cars are using either Diseal or Hybird."
   ]
  },
  {
   "cell_type": "markdown",
   "metadata": {},
   "source": [
    "## 9. The gear type of cars"
   ]
  },
  {
   "cell_type": "code",
   "execution_count": 188,
   "metadata": {},
   "outputs": [
    {
     "data": {
      "text/plain": [
       "2"
      ]
     },
     "execution_count": 188,
     "metadata": {},
     "output_type": "execute_result"
    }
   ],
   "source": [
    "# how many unique value in Gear_Type column\n",
    "df.Gear_Type.nunique()"
   ]
  },
  {
   "cell_type": "code",
   "execution_count": 189,
   "metadata": {},
   "outputs": [
    {
     "data": {
      "image/png": "[encoded data removed]",
      "text/plain": [
       "<Figure size 1080x576 with 1 Axes>"
      ]
     },
     "metadata": {},
     "output_type": "display_data"
    }
   ],
   "source": [
    "# Bar chart for the gear type of the cars\n",
    "x = df['Gear_Type'].value_counts().index\n",
    "y = df['Gear_Type'].value_counts()\n",
    "\n",
    "plt.style.use('seaborn-darkgrid')\n",
    "plt.figure(figsize=(15,8))\n",
    "plt.xticks( color ='#081d58',fontsize=12)\n",
    "plt.yticks(color ='#081d58',fontsize=12)\n",
    "plt.bar(x, y, color= ('#7fcdbb'), width=0.6)\n",
    "plt.xlabel('gear type',fontsize=20, color ='#081d58')\n",
    "plt.ylabel(' Number of Cars',fontsize=20, color ='#081d58')\n",
    "plt.title('The car type of gear',fontsize=22, color ='#081d58');"
   ]
  },
  {
   "cell_type": "markdown",
   "metadata": {},
   "source": [
    "The most Gear type in this dataset is **Automatic gear**"
   ]
  },
  {
   "cell_type": "markdown",
   "metadata": {},
   "source": [
    "## 10. The distance travel of cars"
   ]
  },
  {
   "cell_type": "code",
   "execution_count": 190,
   "metadata": {},
   "outputs": [
    {
     "data": {
      "text/plain": [
       "count    6.428000e+03\n",
       "mean     1.476798e+05\n",
       "std      3.582324e+05\n",
       "min      1.000000e+02\n",
       "25%      3.700000e+04\n",
       "50%      1.018995e+05\n",
       "75%      1.950000e+05\n",
       "max      2.000000e+07\n",
       "Name: Mileage, dtype: float64"
      ]
     },
     "execution_count": 190,
     "metadata": {},
     "output_type": "execute_result"
    }
   ],
   "source": [
    "# summary statistics of Mileage column\n",
    "df.Mileage.describe()"
   ]
  },
  {
   "cell_type": "markdown",
   "metadata": {},
   "source": [
    "**EDA for Mileage**"
   ]
  },
  {
   "cell_type": "markdown",
   "metadata": {},
   "source": [
    "## 11. Popularity of the Car Region"
   ]
  },
  {
   "cell_type": "code",
   "execution_count": 191,
   "metadata": {},
   "outputs": [
    {
     "data": {
      "text/plain": [
       "27"
      ]
     },
     "execution_count": 191,
     "metadata": {},
     "output_type": "execute_result"
    }
   ],
   "source": [
    "# how many unique value in Region column\n",
    "df.Region.nunique()"
   ]
  },
  {
   "cell_type": "code",
   "execution_count": 192,
   "metadata": {},
   "outputs": [
    {
     "data": {
      "text/plain": [
       "array(['Riyadh', 'Jeddah', 'Abha', 'Dammam', 'Qassim', 'Taef',\n",
       "       'Al-Medina', 'Aseer', 'Wadi Dawasir', 'Al-Ahsa', 'Tabouk',\n",
       "       'Makkah', 'Jazan', 'Khobar', 'Al-Jouf', 'Hafar Al-Batin', 'Yanbu',\n",
       "       'Jubail', 'Najran', 'Al-Baha', 'Arar', 'Hail', 'Al-Namas',\n",
       "       'Sakaka', 'Besha', 'Qurayyat', 'Sabya'], dtype=object)"
      ]
     },
     "execution_count": 192,
     "metadata": {},
     "output_type": "execute_result"
    }
   ],
   "source": [
    "# what are the unique value in Region column\n",
    "df.Region.unique()"
   ]
  },
  {
   "cell_type": "markdown",
   "metadata": {},
   "source": [
    "**WE CAN COMBAIN DAMMAM & KHOBAR BECAUSE THE DISTANCE BETWEEN THEM IS LESS THAN 20 KM**"
   ]
  },
  {
   "cell_type": "code",
   "execution_count": 193,
   "metadata": {},
   "outputs": [
    {
     "data": {
      "text/plain": [
       "26"
      ]
     },
     "execution_count": 193,
     "metadata": {},
     "output_type": "execute_result"
    }
   ],
   "source": [
    "# Change Khobar to Dammam as the distance between them is less than 20 KM\n",
    "df.loc[df['Region'] == 'Khobar', 'Region'] = 'Dammam'\n",
    "df.Region.nunique()"
   ]
  },
  {
   "cell_type": "code",
   "execution_count": 194,
   "metadata": {},
   "outputs": [
    {
     "data": {
      "text/plain": [
       "Riyadh       39.887990\n",
       "Dammam       18.357187\n",
       "Jeddah       13.332296\n",
       "other         8.945240\n",
       "Qassim        3.889235\n",
       "Al-Medina     3.795893\n",
       "Aseer         2.831363\n",
       "Al-Ahsa       2.831363\n",
       "Makkah        2.815806\n",
       "Taef          1.726820\n",
       "Tabouk        1.586808\n",
       "Name: Region, dtype: float64"
      ]
     },
     "execution_count": 194,
     "metadata": {},
     "output_type": "execute_result"
    }
   ],
   "source": [
    "# normalize the year of the cars\n",
    "freq = df.Region.value_counts()\n",
    "#replace the Region with less than 100 cars to \"other\" category\n",
    "region_updated = df.Region.replace(freq[freq<100].index , \"other\")\n",
    "\n",
    "#Check after the edit (print with percentage )\n",
    "region_updated.value_counts(normalize=True).mul(100)"
   ]
  },
  {
   "cell_type": "code",
   "execution_count": 195,
   "metadata": {},
   "outputs": [
    {
     "data": {
      "image/png": "[encoded data removed]",
      "text/plain": [
       "<Figure size 1080x576 with 1 Axes>"
      ]
     },
     "metadata": {},
     "output_type": "display_data"
    }
   ],
   "source": [
    "# Bar chart for Top 10 Most Popular Regions of the Used Cars\n",
    "x = df['Region'].value_counts().head(10).index\n",
    "y = df['Region'].value_counts().head(10)\n",
    "\n",
    "plt.style.use('seaborn-darkgrid')\n",
    "plt.figure(figsize=(15,8))\n",
    "plt.xticks( color ='#081d58',fontsize=12)\n",
    "plt.yticks(color ='#081d58',fontsize=12)\n",
    "plt.bar(x, y, color= ('#7fcdbb'), width=0.6)\n",
    "plt.xlabel('Car Region',fontsize=20, color ='#081d58')\n",
    "plt.ylabel('Number of Cars',fontsize=20, color ='#081d58')\n",
    "plt.title('Top 10 Most Popular Regions of the Used Cars',fontsize=22, color ='#081d58');\n"
   ]
  },
  {
   "cell_type": "markdown",
   "metadata": {},
   "source": [
    "As we can see from the above bar chart, **Riyadh** Region has the most used cars in our dataset."
   ]
  },
  {
   "cell_type": "markdown",
   "metadata": {},
   "source": [
    "## 12. Cars Price"
   ]
  },
  {
   "cell_type": "code",
   "execution_count": 196,
   "metadata": {},
   "outputs": [
    {
     "data": {
      "text/plain": [
       "0         2021\n",
       "45000      121\n",
       "35000      107\n",
       "55000      102\n",
       "30000       94\n",
       "          ... \n",
       "56600        1\n",
       "349000       1\n",
       "445000       1\n",
       "1013         1\n",
       "1046         1\n",
       "Name: Price, Length: 488, dtype: int64"
      ]
     },
     "execution_count": 196,
     "metadata": {},
     "output_type": "execute_result"
    }
   ],
   "source": [
    "# number of observation in each unique price value\n",
    "df.Price.value_counts()"
   ]
  },
  {
   "cell_type": "code",
   "execution_count": 197,
   "metadata": {},
   "outputs": [
    {
     "data": {
      "text/plain": [
       "0    2021\n",
       "1       1\n",
       "Name: Price, dtype: int64"
      ]
     },
     "execution_count": 197,
     "metadata": {},
     "output_type": "execute_result"
    }
   ],
   "source": [
    "# check the price if less than 100\n",
    "df[df.Price < 100].Price.value_counts()"
   ]
  },
  {
   "cell_type": "markdown",
   "metadata": {},
   "source": [
    "**EDA of Price**"
   ]
  },
  {
   "cell_type": "markdown",
   "metadata": {},
   "source": [
    "## 13. The negotiability of the cars prices"
   ]
  },
  {
   "cell_type": "code",
   "execution_count": 198,
   "metadata": {},
   "outputs": [
    {
     "data": {
      "text/plain": [
       "array([False,  True])"
      ]
     },
     "execution_count": 198,
     "metadata": {},
     "output_type": "execute_result"
    }
   ],
   "source": [
    "# what are the unique value in Negotiable column\n",
    "df.Negotiable.unique()"
   ]
  },
  {
   "cell_type": "code",
   "execution_count": 199,
   "metadata": {},
   "outputs": [
    {
     "data": {
      "image/png": "[encoded data removed]",
      "text/plain": [
       "<Figure size 1080x576 with 1 Axes>"
      ]
     },
     "metadata": {},
     "output_type": "display_data"
    }
   ],
   "source": [
    "# Bar chart showing the negotiability of the cars prices\n",
    "x = df['Negotiable'].value_counts().index\n",
    "y = df['Negotiable'].value_counts()\n",
    "\n",
    "plt.style.use('seaborn-darkgrid')\n",
    "plt.figure(figsize=(15,8))\n",
    "plt.xticks( color ='#081d58',fontsize=12)\n",
    "plt.yticks(color ='#081d58',fontsize=12)\n",
    "plt.bar(x, y, color= ('#7fcdbb'), width=0.6)\n",
    "plt.xlabel('Negotiability of price',fontsize=20, color ='#081d58')\n",
    "plt.ylabel('Number of Cars',fontsize=20, color ='#081d58')\n",
    "plt.title('The negotiability of the cars prices',fontsize=22, color ='#081d58');"
   ]
  },
  {
   "cell_type": "markdown",
   "metadata": {},
   "source": [
    "**NEED SOME CHANGE SO THE LABEL APPEAR (FALSE/TRUE)**"
   ]
  },
  {
   "cell_type": "markdown",
   "metadata": {},
   "source": [
    "# Data Cleaning"
   ]
  },
  {
   "cell_type": "markdown",
   "metadata": {},
   "source": [
    "#### Issues:\n",
    "- Drop [Unnamed: 0] column  \n",
    "- Drop all the observations in [Price] column with the values (0 and 1)"
   ]
  },
  {
   "cell_type": "code",
   "execution_count": 200,
   "metadata": {},
   "outputs": [],
   "source": [
    "# first step is making a copy of the dataframe\n",
    "df_clean = df.copy()"
   ]
  },
  {
   "cell_type": "code",
   "execution_count": 201,
   "metadata": {},
   "outputs": [],
   "source": [
    "# Drop 'Unnamed: 0' column \n",
    "df_clean.drop(['Unnamed: 0'], axis = 1, inplace = True)"
   ]
  },
  {
   "cell_type": "code",
   "execution_count": 202,
   "metadata": {},
   "outputs": [],
   "source": [
    "# Drop all the observations in [Price] column with the values (0 and 1)\n",
    "df_clean.drop(df_clean.loc[df_clean['Price'] == 0].index, inplace=True)"
   ]
  },
  {
   "cell_type": "code",
   "execution_count": 203,
   "metadata": {},
   "outputs": [],
   "source": [
    "df_clean.drop(df_clean.loc[df_clean['Price'] == 1].index, inplace=True)"
   ]
  },
  {
   "cell_type": "code",
   "execution_count": 204,
   "metadata": {
    "scrolled": false
   },
   "outputs": [
    {
     "data": {
      "text/html": [
       "<div>\n",
       "<style scoped>\n",
       "    .dataframe tbody tr th:only-of-type {\n",
       "        vertical-align: middle;\n",
       "    }\n",
       "\n",
       "    .dataframe tbody tr th {\n",
       "        vertical-align: top;\n",
       "    }\n",
       "\n",
       "    .dataframe thead th {\n",
       "        text-align: right;\n",
       "    }\n",
       "</style>\n",
       "<table border=\"1\" class=\"dataframe\">\n",
       "  <thead>\n",
       "    <tr style=\"text-align: right;\">\n",
       "      <th></th>\n",
       "      <th>Make</th>\n",
       "      <th>Type</th>\n",
       "      <th>Year</th>\n",
       "      <th>Origin</th>\n",
       "      <th>Color</th>\n",
       "      <th>Options</th>\n",
       "      <th>Engine_Size</th>\n",
       "      <th>Fuel_Type</th>\n",
       "      <th>Gear_Type</th>\n",
       "      <th>Mileage</th>\n",
       "      <th>Region</th>\n",
       "      <th>Price</th>\n",
       "      <th>Negotiable</th>\n",
       "    </tr>\n",
       "  </thead>\n",
       "  <tbody>\n",
       "    <tr>\n",
       "      <th>0</th>\n",
       "      <td>Toyota</td>\n",
       "      <td>Camry</td>\n",
       "      <td>2020</td>\n",
       "      <td>Saudi</td>\n",
       "      <td>Brown</td>\n",
       "      <td>Semi Full</td>\n",
       "      <td>2.5</td>\n",
       "      <td>Gas</td>\n",
       "      <td>Automatic</td>\n",
       "      <td>38000</td>\n",
       "      <td>Riyadh</td>\n",
       "      <td>1364</td>\n",
       "      <td>False</td>\n",
       "    </tr>\n",
       "    <tr>\n",
       "      <th>1</th>\n",
       "      <td>Toyota</td>\n",
       "      <td>FJ</td>\n",
       "      <td>2012</td>\n",
       "      <td>Saudi</td>\n",
       "      <td>Black</td>\n",
       "      <td>Full</td>\n",
       "      <td>4.0</td>\n",
       "      <td>Gas</td>\n",
       "      <td>Automatic</td>\n",
       "      <td>35000</td>\n",
       "      <td>Riyadh</td>\n",
       "      <td>70000</td>\n",
       "      <td>False</td>\n",
       "    </tr>\n",
       "    <tr>\n",
       "      <th>2</th>\n",
       "      <td>Chevrolet</td>\n",
       "      <td>Suburban</td>\n",
       "      <td>2009</td>\n",
       "      <td>Saudi</td>\n",
       "      <td>White</td>\n",
       "      <td>Standard</td>\n",
       "      <td>5.3</td>\n",
       "      <td>Gas</td>\n",
       "      <td>Automatic</td>\n",
       "      <td>255</td>\n",
       "      <td>Riyadh</td>\n",
       "      <td>36000</td>\n",
       "      <td>False</td>\n",
       "    </tr>\n",
       "    <tr>\n",
       "      <th>3</th>\n",
       "      <td>Ford</td>\n",
       "      <td>Explorer</td>\n",
       "      <td>2016</td>\n",
       "      <td>Other</td>\n",
       "      <td>White</td>\n",
       "      <td>Full</td>\n",
       "      <td>3.5</td>\n",
       "      <td>Gas</td>\n",
       "      <td>Automatic</td>\n",
       "      <td>128644</td>\n",
       "      <td>Riyadh</td>\n",
       "      <td>118000</td>\n",
       "      <td>False</td>\n",
       "    </tr>\n",
       "    <tr>\n",
       "      <th>4</th>\n",
       "      <td>Toyota</td>\n",
       "      <td>Corolla</td>\n",
       "      <td>2018</td>\n",
       "      <td>Saudi</td>\n",
       "      <td>White</td>\n",
       "      <td>Standard</td>\n",
       "      <td>1.6</td>\n",
       "      <td>Gas</td>\n",
       "      <td>Automatic</td>\n",
       "      <td>19190</td>\n",
       "      <td>Jeddah</td>\n",
       "      <td>55000</td>\n",
       "      <td>False</td>\n",
       "    </tr>\n",
       "  </tbody>\n",
       "</table>\n",
       "</div>"
      ],
      "text/plain": [
       "        Make      Type  Year Origin  Color    Options  Engine_Size Fuel_Type  \\\n",
       "0     Toyota     Camry  2020  Saudi  Brown  Semi Full          2.5       Gas   \n",
       "1     Toyota        FJ  2012  Saudi  Black       Full          4.0       Gas   \n",
       "2  Chevrolet  Suburban  2009  Saudi  White   Standard          5.3       Gas   \n",
       "3       Ford  Explorer  2016  Other  White       Full          3.5       Gas   \n",
       "4     Toyota   Corolla  2018  Saudi  White   Standard          1.6       Gas   \n",
       "\n",
       "   Gear_Type  Mileage  Region   Price  Negotiable  \n",
       "0  Automatic    38000  Riyadh    1364       False  \n",
       "1  Automatic    35000  Riyadh   70000       False  \n",
       "2  Automatic      255  Riyadh   36000       False  \n",
       "3  Automatic   128644  Riyadh  118000       False  \n",
       "4  Automatic    19190  Jeddah   55000       False  "
      ]
     },
     "execution_count": 204,
     "metadata": {},
     "output_type": "execute_result"
    }
   ],
   "source": [
    "df_clean.head()"
   ]
  },
  {
   "cell_type": "code",
   "execution_count": 205,
   "metadata": {},
   "outputs": [
    {
     "data": {
      "text/plain": [
       "Series([], Name: Price, dtype: int64)"
      ]
     },
     "execution_count": 205,
     "metadata": {},
     "output_type": "execute_result"
    }
   ],
   "source": [
    "# to check if the price with value 0 & 1 deleted or not\n",
    "df_clean[df_clean.Price < 100].Price.value_counts()"
   ]
  }
 ],
 "metadata": {
  "interpreter": {
   "hash": "32c0ce65d1c0d68efd1412b89c10e441eed94c13c34713d0006e8f375390a6c2"
  },
  "kernelspec": {
   "display_name": "Python 3 (ipykernel)",
   "language": "python",
   "name": "python3"
  },
  "language_info": {
   "codemirror_mode": {
    "name": "ipython",
    "version": 3
   },
   "file_extension": ".py",
   "mimetype": "text/x-python",
   "name": "python",
   "nbconvert_exporter": "python",
   "pygments_lexer": "ipython3",
   "version": "3.8.5"
  },
  "toc": {
   "base_numbering": 1,
   "nav_menu": {},
   "number_sections": true,
   "sideBar": true,
   "skip_h1_title": false,
   "title_cell": "Table of Contents",
   "title_sidebar": "Contents",
   "toc_cell": false,
   "toc_position": {},
   "toc_section_display": true,
   "toc_window_display": false
  },
  "varInspector": {
   "cols": {
    "lenName": 16,
    "lenType": 16,
    "lenVar": 40
   },
   "kernels_config": {
    "python": {
     "delete_cmd_postfix": "",
     "delete_cmd_prefix": "del ",
     "library": "var_list.py",
     "varRefreshCmd": "print(var_dic_list())"
    },
    "r": {
     "delete_cmd_postfix": ") ",
     "delete_cmd_prefix": "rm(",
     "library": "var_list.r",
     "varRefreshCmd": "cat(var_dic_list()) "
    }
   },
   "types_to_exclude": [
    "module",
    "function",
    "builtin_function_or_method",
    "instance",
    "_Feature"
   ],
   "window_display": false
  }
 },
 "nbformat": 4,
 "nbformat_minor": 2
}
