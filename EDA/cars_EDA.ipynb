{
 "cells": [
  {
   "cell_type": "markdown",
   "metadata": {},
   "source": [
    "# Used Cars Dataset \n",
    "\n",
    "\n",
    "\n",
    "\n",
    "The dataset contains records of used cars collected from syarah.com Each row represents a used car with a link to its webpage. Other information regarding each car is the brand name, model, manufacturing year, origin, the color of the car, options, capacity of the engine, type of fuel, transmission type, the mileage that the car covered, region price, and negotiable.\n",
    "\n",
    "\n",
    "<ul><b>Team members:</b>\n",
    "        <li> Alfaisal alqahtani </li>\n",
    "        <li> Fatema Buhuligah </li>\n",
    "        <li> Sarah Alharbi </li>\n",
    "        <li> Sanad  </li>\n",
    "        <li> Saleh Alabbas</li>\n",
    "        </ul>"
   ]
  },
  {
   "cell_type": "markdown",
   "metadata": {},
   "source": [
    "## Import Libraries "
   ]
  },
  {
   "cell_type": "code",
   "execution_count": 1,
   "metadata": {},
   "outputs": [],
   "source": [
    "# imporitng the libraries\n",
    "import pandas as pd\n",
    "import numpy as np\n",
    "import matplotlib.pyplot as plt\n",
    "import seaborn as sns\n",
    "import plotly.express as px\n",
    "import mplcyberpunk\n",
    "\n",
    "\n"
   ]
  },
  {
   "cell_type": "markdown",
   "metadata": {},
   "source": [
    "## Load Data"
   ]
  },
  {
   "cell_type": "code",
   "execution_count": 2,
   "metadata": {},
   "outputs": [],
   "source": [
    "# import the dataset\n",
    "df = pd.read_csv(\"cars.csv\")"
   ]
  },
  {
   "cell_type": "markdown",
   "metadata": {},
   "source": [
    "# Exploratory Data Analysis  (EDA)"
   ]
  },
  {
   "cell_type": "code",
   "execution_count": 3,
   "metadata": {},
   "outputs": [
    {
     "data": {
      "text/html": [
       "<div>\n",
       "<style scoped>\n",
       "    .dataframe tbody tr th:only-of-type {\n",
       "        vertical-align: middle;\n",
       "    }\n",
       "\n",
       "    .dataframe tbody tr th {\n",
       "        vertical-align: top;\n",
       "    }\n",
       "\n",
       "    .dataframe thead th {\n",
       "        text-align: right;\n",
       "    }\n",
       "</style>\n",
       "<table border=\"1\" class=\"dataframe\">\n",
       "  <thead>\n",
       "    <tr style=\"text-align: right;\">\n",
       "      <th></th>\n",
       "      <th>Unnamed: 0</th>\n",
       "      <th>Make</th>\n",
       "      <th>Type</th>\n",
       "      <th>Year</th>\n",
       "      <th>Origin</th>\n",
       "      <th>Color</th>\n",
       "      <th>Options</th>\n",
       "      <th>Engine_Size</th>\n",
       "      <th>Fuel_Type</th>\n",
       "      <th>Gear_Type</th>\n",
       "      <th>Mileage</th>\n",
       "      <th>Region</th>\n",
       "      <th>Price</th>\n",
       "      <th>Negotiable</th>\n",
       "    </tr>\n",
       "  </thead>\n",
       "  <tbody>\n",
       "    <tr>\n",
       "      <th>0</th>\n",
       "      <td>6153</td>\n",
       "      <td>Toyota</td>\n",
       "      <td>Camry</td>\n",
       "      <td>2020</td>\n",
       "      <td>Saudi</td>\n",
       "      <td>Brown</td>\n",
       "      <td>Semi Full</td>\n",
       "      <td>2.5</td>\n",
       "      <td>Gas</td>\n",
       "      <td>Automatic</td>\n",
       "      <td>38000</td>\n",
       "      <td>Riyadh</td>\n",
       "      <td>1364</td>\n",
       "      <td>False</td>\n",
       "    </tr>\n",
       "    <tr>\n",
       "      <th>1</th>\n",
       "      <td>4434</td>\n",
       "      <td>Toyota</td>\n",
       "      <td>FJ</td>\n",
       "      <td>2012</td>\n",
       "      <td>Saudi</td>\n",
       "      <td>Black</td>\n",
       "      <td>Full</td>\n",
       "      <td>4.0</td>\n",
       "      <td>Gas</td>\n",
       "      <td>Automatic</td>\n",
       "      <td>35000</td>\n",
       "      <td>Riyadh</td>\n",
       "      <td>70000</td>\n",
       "      <td>False</td>\n",
       "    </tr>\n",
       "    <tr>\n",
       "      <th>2</th>\n",
       "      <td>3537</td>\n",
       "      <td>Chevrolet</td>\n",
       "      <td>Suburban</td>\n",
       "      <td>2009</td>\n",
       "      <td>Saudi</td>\n",
       "      <td>White</td>\n",
       "      <td>Standard</td>\n",
       "      <td>5.3</td>\n",
       "      <td>Gas</td>\n",
       "      <td>Automatic</td>\n",
       "      <td>255</td>\n",
       "      <td>Riyadh</td>\n",
       "      <td>36000</td>\n",
       "      <td>False</td>\n",
       "    </tr>\n",
       "    <tr>\n",
       "      <th>3</th>\n",
       "      <td>1666</td>\n",
       "      <td>Ford</td>\n",
       "      <td>Explorer</td>\n",
       "      <td>2016</td>\n",
       "      <td>Other</td>\n",
       "      <td>White</td>\n",
       "      <td>Full</td>\n",
       "      <td>3.5</td>\n",
       "      <td>Gas</td>\n",
       "      <td>Automatic</td>\n",
       "      <td>128644</td>\n",
       "      <td>Riyadh</td>\n",
       "      <td>118000</td>\n",
       "      <td>False</td>\n",
       "    </tr>\n",
       "    <tr>\n",
       "      <th>4</th>\n",
       "      <td>3513</td>\n",
       "      <td>Toyota</td>\n",
       "      <td>Corolla</td>\n",
       "      <td>2018</td>\n",
       "      <td>Saudi</td>\n",
       "      <td>White</td>\n",
       "      <td>Standard</td>\n",
       "      <td>1.6</td>\n",
       "      <td>Gas</td>\n",
       "      <td>Automatic</td>\n",
       "      <td>19190</td>\n",
       "      <td>Jeddah</td>\n",
       "      <td>55000</td>\n",
       "      <td>False</td>\n",
       "    </tr>\n",
       "  </tbody>\n",
       "</table>\n",
       "</div>"
      ],
      "text/plain": [
       "   Unnamed: 0       Make      Type  Year Origin  Color    Options  \\\n",
       "0        6153     Toyota     Camry  2020  Saudi  Brown  Semi Full   \n",
       "1        4434     Toyota        FJ  2012  Saudi  Black       Full   \n",
       "2        3537  Chevrolet  Suburban  2009  Saudi  White   Standard   \n",
       "3        1666       Ford  Explorer  2016  Other  White       Full   \n",
       "4        3513     Toyota   Corolla  2018  Saudi  White   Standard   \n",
       "\n",
       "   Engine_Size Fuel_Type  Gear_Type  Mileage  Region   Price  Negotiable  \n",
       "0          2.5       Gas  Automatic    38000  Riyadh    1364       False  \n",
       "1          4.0       Gas  Automatic    35000  Riyadh   70000       False  \n",
       "2          5.3       Gas  Automatic      255  Riyadh   36000       False  \n",
       "3          3.5       Gas  Automatic   128644  Riyadh  118000       False  \n",
       "4          1.6       Gas  Automatic    19190  Jeddah   55000       False  "
      ]
     },
     "execution_count": 3,
     "metadata": {},
     "output_type": "execute_result"
    }
   ],
   "source": [
    "df.head()"
   ]
  },
  {
   "cell_type": "code",
   "execution_count": 4,
   "metadata": {},
   "outputs": [
    {
     "data": {
      "text/plain": [
       "(6428, 14)"
      ]
     },
     "execution_count": 4,
     "metadata": {},
     "output_type": "execute_result"
    }
   ],
   "source": [
    "# How many rows and columns?\n",
    "df.shape"
   ]
  },
  {
   "cell_type": "code",
   "execution_count": 5,
   "metadata": {},
   "outputs": [
    {
     "data": {
      "text/plain": [
       "Index(['Unnamed: 0', 'Make', 'Type', 'Year', 'Origin', 'Color', 'Options',\n",
       "       'Engine_Size', 'Fuel_Type', 'Gear_Type', 'Mileage', 'Region', 'Price',\n",
       "       'Negotiable'],\n",
       "      dtype='object')"
      ]
     },
     "execution_count": 5,
     "metadata": {},
     "output_type": "execute_result"
    }
   ],
   "source": [
    "# What are the column names?\n",
    "df.columns"
   ]
  },
  {
   "cell_type": "markdown",
   "metadata": {},
   "source": [
    "#### The features in the dataset\n",
    "- Make: Car company'name\n",
    "- Type: Car type\n",
    "- Year: Production year\n",
    "- Origin: If  it from Saudi Arabia or Gulf countries or other\n",
    "- Color: Car color\n",
    "- Options: Full, Semi Full, Standard\n",
    "- Engine_Size\n",
    "- Fule_Type: Gas, Diesel, Hybrid\n",
    "- Gear_Type: Automatic, Manual\n",
    "- Mileage: the distance travel\n",
    "- Region: the region of the car\n",
    "- Price: price of the car (if 0 or 1 it means open for auction)\n",
    "- Negotiable: (True/False) if the price is negotiable"
   ]
  },
  {
   "cell_type": "code",
   "execution_count": 6,
   "metadata": {
    "scrolled": true
   },
   "outputs": [
    {
     "data": {
      "text/html": [
       "<div>\n",
       "<style scoped>\n",
       "    .dataframe tbody tr th:only-of-type {\n",
       "        vertical-align: middle;\n",
       "    }\n",
       "\n",
       "    .dataframe tbody tr th {\n",
       "        vertical-align: top;\n",
       "    }\n",
       "\n",
       "    .dataframe thead th {\n",
       "        text-align: right;\n",
       "    }\n",
       "</style>\n",
       "<table border=\"1\" class=\"dataframe\">\n",
       "  <thead>\n",
       "    <tr style=\"text-align: right;\">\n",
       "      <th></th>\n",
       "      <th>Unnamed: 0</th>\n",
       "      <th>Year</th>\n",
       "      <th>Engine_Size</th>\n",
       "      <th>Mileage</th>\n",
       "      <th>Price</th>\n",
       "    </tr>\n",
       "  </thead>\n",
       "  <tbody>\n",
       "    <tr>\n",
       "      <th>count</th>\n",
       "      <td>6428.000000</td>\n",
       "      <td>6428.000000</td>\n",
       "      <td>6428.000000</td>\n",
       "      <td>6.428000e+03</td>\n",
       "      <td>6.428000e+03</td>\n",
       "    </tr>\n",
       "    <tr>\n",
       "      <th>mean</th>\n",
       "      <td>4001.298538</td>\n",
       "      <td>2014.120566</td>\n",
       "      <td>3.299284</td>\n",
       "      <td>1.476798e+05</td>\n",
       "      <td>5.395469e+04</td>\n",
       "    </tr>\n",
       "    <tr>\n",
       "      <th>std</th>\n",
       "      <td>2308.032075</td>\n",
       "      <td>5.690005</td>\n",
       "      <td>1.523697</td>\n",
       "      <td>3.582324e+05</td>\n",
       "      <td>7.300146e+04</td>\n",
       "    </tr>\n",
       "    <tr>\n",
       "      <th>min</th>\n",
       "      <td>0.000000</td>\n",
       "      <td>1964.000000</td>\n",
       "      <td>1.000000</td>\n",
       "      <td>1.000000e+02</td>\n",
       "      <td>0.000000e+00</td>\n",
       "    </tr>\n",
       "    <tr>\n",
       "      <th>25%</th>\n",
       "      <td>2003.750000</td>\n",
       "      <td>2012.000000</td>\n",
       "      <td>2.000000</td>\n",
       "      <td>3.700000e+04</td>\n",
       "      <td>0.000000e+00</td>\n",
       "    </tr>\n",
       "    <tr>\n",
       "      <th>50%</th>\n",
       "      <td>3998.500000</td>\n",
       "      <td>2016.000000</td>\n",
       "      <td>3.000000</td>\n",
       "      <td>1.018995e+05</td>\n",
       "      <td>3.700000e+04</td>\n",
       "    </tr>\n",
       "    <tr>\n",
       "      <th>75%</th>\n",
       "      <td>5979.250000</td>\n",
       "      <td>2018.000000</td>\n",
       "      <td>4.500000</td>\n",
       "      <td>1.950000e+05</td>\n",
       "      <td>7.300000e+04</td>\n",
       "    </tr>\n",
       "    <tr>\n",
       "      <th>max</th>\n",
       "      <td>8034.000000</td>\n",
       "      <td>2022.000000</td>\n",
       "      <td>9.000000</td>\n",
       "      <td>2.000000e+07</td>\n",
       "      <td>1.150000e+06</td>\n",
       "    </tr>\n",
       "  </tbody>\n",
       "</table>\n",
       "</div>"
      ],
      "text/plain": [
       "        Unnamed: 0         Year  Engine_Size       Mileage         Price\n",
       "count  6428.000000  6428.000000  6428.000000  6.428000e+03  6.428000e+03\n",
       "mean   4001.298538  2014.120566     3.299284  1.476798e+05  5.395469e+04\n",
       "std    2308.032075     5.690005     1.523697  3.582324e+05  7.300146e+04\n",
       "min       0.000000  1964.000000     1.000000  1.000000e+02  0.000000e+00\n",
       "25%    2003.750000  2012.000000     2.000000  3.700000e+04  0.000000e+00\n",
       "50%    3998.500000  2016.000000     3.000000  1.018995e+05  3.700000e+04\n",
       "75%    5979.250000  2018.000000     4.500000  1.950000e+05  7.300000e+04\n",
       "max    8034.000000  2022.000000     9.000000  2.000000e+07  1.150000e+06"
      ]
     },
     "execution_count": 6,
     "metadata": {},
     "output_type": "execute_result"
    }
   ],
   "source": [
    "# Show a quick summary statistics of the numerical variables we have\n",
    "df.describe()"
   ]
  },
  {
   "cell_type": "markdown",
   "metadata": {},
   "source": [
    "<ui>We could notice that: </ui>\n",
    "<li>\n",
    "The year of the used cars in our dataset are from 1964 until 2022, Wheras 75% of the cars were from 2018 and older.  </li>\n",
    "\n",
    "<li>The engine size ranging between 1-litre and 1.9-litre.</li>\n",
    "\n",
    "<li>The Mileage is started from 100 to 20000000.</li>\n",
    "\n",
    "<li>The price ranging from 0 to 1150000. <b>\"some people didn't put an initial price that could be by mistake or they want the buyers to start opening the bid.\"</b></li>\n",
    "\n"
   ]
  },
  {
   "cell_type": "code",
   "execution_count": 7,
   "metadata": {},
   "outputs": [
    {
     "data": {
      "text/plain": [
       "Unnamed: 0     0\n",
       "Make           0\n",
       "Type           0\n",
       "Year           0\n",
       "Origin         0\n",
       "Color          0\n",
       "Options        0\n",
       "Engine_Size    0\n",
       "Fuel_Type      0\n",
       "Gear_Type      0\n",
       "Mileage        0\n",
       "Region         0\n",
       "Price          0\n",
       "Negotiable     0\n",
       "dtype: int64"
      ]
     },
     "execution_count": 7,
     "metadata": {},
     "output_type": "execute_result"
    }
   ],
   "source": [
    "#checking for total null values\n",
    "df.isnull().sum() "
   ]
  },
  {
   "cell_type": "code",
   "execution_count": 8,
   "metadata": {},
   "outputs": [
    {
     "name": "stdout",
     "output_type": "stream",
     "text": [
      "<class 'pandas.core.frame.DataFrame'>\n",
      "RangeIndex: 6428 entries, 0 to 6427\n",
      "Data columns (total 14 columns):\n",
      " #   Column       Non-Null Count  Dtype  \n",
      "---  ------       --------------  -----  \n",
      " 0   Unnamed: 0   6428 non-null   int64  \n",
      " 1   Make         6428 non-null   object \n",
      " 2   Type         6428 non-null   object \n",
      " 3   Year         6428 non-null   int64  \n",
      " 4   Origin       6428 non-null   object \n",
      " 5   Color        6428 non-null   object \n",
      " 6   Options      6428 non-null   object \n",
      " 7   Engine_Size  6428 non-null   float64\n",
      " 8   Fuel_Type    6428 non-null   object \n",
      " 9   Gear_Type    6428 non-null   object \n",
      " 10  Mileage      6428 non-null   int64  \n",
      " 11  Region       6428 non-null   object \n",
      " 12  Price        6428 non-null   int64  \n",
      " 13  Negotiable   6428 non-null   bool   \n",
      "dtypes: bool(1), float64(1), int64(4), object(8)\n",
      "memory usage: 659.2+ KB\n"
     ]
    }
   ],
   "source": [
    "# what are the types of values in each column?\n",
    "df.info()"
   ]
  },
  {
   "cell_type": "code",
   "execution_count": 9,
   "metadata": {},
   "outputs": [
    {
     "data": {
      "text/html": [
       "<div>\n",
       "<style scoped>\n",
       "    .dataframe tbody tr th:only-of-type {\n",
       "        vertical-align: middle;\n",
       "    }\n",
       "\n",
       "    .dataframe tbody tr th {\n",
       "        vertical-align: top;\n",
       "    }\n",
       "\n",
       "    .dataframe thead th {\n",
       "        text-align: right;\n",
       "    }\n",
       "</style>\n",
       "<table border=\"1\" class=\"dataframe\">\n",
       "  <thead>\n",
       "    <tr style=\"text-align: right;\">\n",
       "      <th></th>\n",
       "      <th>Unnamed: 0</th>\n",
       "      <th>Make</th>\n",
       "      <th>Type</th>\n",
       "      <th>Year</th>\n",
       "      <th>Origin</th>\n",
       "      <th>Color</th>\n",
       "      <th>Options</th>\n",
       "      <th>Engine_Size</th>\n",
       "      <th>Fuel_Type</th>\n",
       "      <th>Gear_Type</th>\n",
       "      <th>Mileage</th>\n",
       "      <th>Region</th>\n",
       "      <th>Price</th>\n",
       "      <th>Negotiable</th>\n",
       "    </tr>\n",
       "  </thead>\n",
       "  <tbody>\n",
       "    <tr>\n",
       "      <th>6423</th>\n",
       "      <td>6017</td>\n",
       "      <td>Mercedes</td>\n",
       "      <td>CLS</td>\n",
       "      <td>2014</td>\n",
       "      <td>Saudi</td>\n",
       "      <td>Brown</td>\n",
       "      <td>Full</td>\n",
       "      <td>3.5</td>\n",
       "      <td>Gas</td>\n",
       "      <td>Automatic</td>\n",
       "      <td>130</td>\n",
       "      <td>Jeddah</td>\n",
       "      <td>100000</td>\n",
       "      <td>False</td>\n",
       "    </tr>\n",
       "    <tr>\n",
       "      <th>6424</th>\n",
       "      <td>709</td>\n",
       "      <td>GMC</td>\n",
       "      <td>Acadia</td>\n",
       "      <td>2014</td>\n",
       "      <td>Saudi</td>\n",
       "      <td>Red</td>\n",
       "      <td>Full</td>\n",
       "      <td>3.6</td>\n",
       "      <td>Gas</td>\n",
       "      <td>Automatic</td>\n",
       "      <td>250000</td>\n",
       "      <td>Khobar</td>\n",
       "      <td>50000</td>\n",
       "      <td>False</td>\n",
       "    </tr>\n",
       "    <tr>\n",
       "      <th>6425</th>\n",
       "      <td>2487</td>\n",
       "      <td>Audi</td>\n",
       "      <td>Q5</td>\n",
       "      <td>2018</td>\n",
       "      <td>Saudi</td>\n",
       "      <td>Another Color</td>\n",
       "      <td>Standard</td>\n",
       "      <td>2.5</td>\n",
       "      <td>Gas</td>\n",
       "      <td>Automatic</td>\n",
       "      <td>17000</td>\n",
       "      <td>Jeddah</td>\n",
       "      <td>138000</td>\n",
       "      <td>False</td>\n",
       "    </tr>\n",
       "    <tr>\n",
       "      <th>6426</th>\n",
       "      <td>174</td>\n",
       "      <td>Renault</td>\n",
       "      <td>Symbol</td>\n",
       "      <td>2020</td>\n",
       "      <td>Saudi</td>\n",
       "      <td>White</td>\n",
       "      <td>Standard</td>\n",
       "      <td>1.6</td>\n",
       "      <td>Gas</td>\n",
       "      <td>Automatic</td>\n",
       "      <td>46505</td>\n",
       "      <td>Riyadh</td>\n",
       "      <td>26000</td>\n",
       "      <td>False</td>\n",
       "    </tr>\n",
       "    <tr>\n",
       "      <th>6427</th>\n",
       "      <td>1146</td>\n",
       "      <td>Ford</td>\n",
       "      <td>Expedition</td>\n",
       "      <td>2006</td>\n",
       "      <td>Other</td>\n",
       "      <td>Black</td>\n",
       "      <td>Full</td>\n",
       "      <td>5.4</td>\n",
       "      <td>Gas</td>\n",
       "      <td>Automatic</td>\n",
       "      <td>341</td>\n",
       "      <td>Al-Jouf</td>\n",
       "      <td>0</td>\n",
       "      <td>True</td>\n",
       "    </tr>\n",
       "  </tbody>\n",
       "</table>\n",
       "</div>"
      ],
      "text/plain": [
       "      Unnamed: 0      Make        Type  Year Origin          Color   Options  \\\n",
       "6423        6017  Mercedes         CLS  2014  Saudi          Brown      Full   \n",
       "6424         709       GMC      Acadia  2014  Saudi            Red      Full   \n",
       "6425        2487      Audi          Q5  2018  Saudi  Another Color  Standard   \n",
       "6426         174   Renault      Symbol  2020  Saudi          White  Standard   \n",
       "6427        1146      Ford  Expedition  2006  Other          Black      Full   \n",
       "\n",
       "      Engine_Size Fuel_Type  Gear_Type  Mileage   Region   Price  Negotiable  \n",
       "6423          3.5       Gas  Automatic      130   Jeddah  100000       False  \n",
       "6424          3.6       Gas  Automatic   250000   Khobar   50000       False  \n",
       "6425          2.5       Gas  Automatic    17000   Jeddah  138000       False  \n",
       "6426          1.6       Gas  Automatic    46505   Riyadh   26000       False  \n",
       "6427          5.4       Gas  Automatic      341  Al-Jouf       0        True  "
      ]
     },
     "execution_count": 9,
     "metadata": {},
     "output_type": "execute_result"
    }
   ],
   "source": [
    "# show the last 5 rows of the dataset\n",
    "df.tail(5)"
   ]
  },
  {
   "cell_type": "code",
   "execution_count": 10,
   "metadata": {},
   "outputs": [
    {
     "data": {
      "text/plain": [
       "0"
      ]
     },
     "execution_count": 10,
     "metadata": {},
     "output_type": "execute_result"
    }
   ],
   "source": [
    "# check if there's any duplicated row\n",
    "df.duplicated().sum()\n"
   ]
  },
  {
   "cell_type": "markdown",
   "metadata": {},
   "source": [
    "## How many Fuel Type?"
   ]
  },
  {
   "cell_type": "code",
   "execution_count": 38,
   "metadata": {},
   "outputs": [
    {
     "name": "stderr",
     "output_type": "stream",
     "text": [
      "/usr/local/lib/python3.9/site-packages/seaborn/_decorators.py:36: FutureWarning: Pass the following variable as a keyword arg: x. From version 0.12, the only valid positional argument will be `data`, and passing other arguments without an explicit keyword will result in an error or misinterpretation.\n",
      "  warnings.warn(\n"
     ]
    },
    {
     "data": {
      "image/png": "[encoded data removed]",
      "text/plain": [
       "<Figure size 1296x576 with 2 Axes>"
      ]
     },
     "metadata": {},
     "output_type": "display_data"
    }
   ],
   "source": [
    "f,ax=plt.subplots(1,2,figsize=(18,8))\n",
    "df['Fuel_Type'].value_counts().plot.pie(explode=[0,0.1,0.1],autopct='%1.1f%%',ax=ax[0],shadow=True)\n",
    "ax[0].set_title('Pie Chart of the Fuel Types' , fontsize=20)\n",
    "ax[0].set_ylabel('')\n",
    "ax.pie(frac, colors=colors ,labels=labels, \n",
    "       autopct='%1.1f%%', textprops={'fontsize': 14})\n",
    "sns.countplot('Fuel_Type',data=df,ax=ax[1])\n",
    "ax[1].set_title('Bar Chart of the Fuel Types', fontsize=20)\n",
    "plt.xlabel('Fuel Types',fontsize=14) \n",
    "plt.xticks(fontsize=12)\n",
    "\n",
    "\n",
    "plt.show()\n",
    "\n",
    "\n",
    "plt.style.use(\"cyberpunk\")\n",
    "\n",
    "\n",
    "\n",
    "plt.show()"
   ]
  },
  {
   "cell_type": "markdown",
   "metadata": {},
   "source": [
    " <b> It's clear that Gas is considered one of the most popular in our dataset, with a percentage of 97.9.</b>"
   ]
  },
  {
   "cell_type": "markdown",
   "metadata": {},
   "source": [
    "## Popularity of the Car brands"
   ]
  },
  {
   "cell_type": "code",
   "execution_count": 14,
   "metadata": {
    "scrolled": true
   },
   "outputs": [
    {
     "data": {
      "text/plain": [
       "59"
      ]
     },
     "execution_count": 14,
     "metadata": {},
     "output_type": "execute_result"
    }
   ],
   "source": [
    "# how many unique value in Make column\n",
    "df.Make.nunique()"
   ]
  },
  {
   "cell_type": "code",
   "execution_count": 15,
   "metadata": {},
   "outputs": [
    {
     "data": {
      "text/plain": [
       "Text(0.5, 1.0, 'Top 10 Most Popular of the Used Car Brands')"
      ]
     },
     "execution_count": 15,
     "metadata": {},
     "output_type": "execute_result"
    },
    {
     "data": {
      "image/png": "[encoded data removed]",
      "text/plain": [
       "<Figure size 864x576 with 1 Axes>"
      ]
     },
     "metadata": {},
     "output_type": "display_data"
    }
   ],
   "source": [
    "# Bar chart for Top 10 Most Popular of the Used Car Brands\n",
    "\n",
    "\n",
    "\n",
    "gry=df\n",
    "\n",
    "cars_make= gry.groupby('Make')['Make'].count()\n",
    "cars_make = pd.DataFrame(cars_make)\n",
    "cars_make.columns = ['Used Cars']\n",
    "cars_make.sort_values(by=['Used Cars'], inplace=True, ascending=False)\n",
    "\n",
    "cars_make = cars_make.head(10)\n",
    "\n",
    "#plt.title(\"The most popular brands of the cars\")\n",
    "plt.style.use(\"cyberpunk\")\n",
    "cars_make.plot.bar(fontsize=12, figsize=(12, 8))\n",
    "plt.legend(\"\")\n",
    "plt.xlabel('Car Brands',fontsize=20) # using a size in points\n",
    "plt.ylabel(' Number of Cars',fontsize=20) # using a size in points\n",
    "plt.title('Top 10 Most Popular of the Used Car Brands',fontsize=22)\n",
    "\n"
   ]
  },
  {
   "cell_type": "markdown",
   "metadata": {},
   "source": [
    "## What are the most popular years of the cars"
   ]
  },
  {
   "cell_type": "code",
   "execution_count": 16,
   "metadata": {},
   "outputs": [
    {
     "data": {
      "text/plain": [
       "array([2020, 2012, 2009, 2016, 2018, 2003, 1998, 2013, 2017, 2010, 2014,\n",
       "       2019, 2015, 2002, 2006, 2001, 2021, 2007, 2008, 2011, 2004, 2005,\n",
       "       1983, 1990, 1999, 1985, 1996, 1997, 1995, 2000, 1994, 1986, 1989,\n",
       "       1991, 1993, 1992, 1979, 1977, 1972, 1970, 1988, 1964, 1978, 2022,\n",
       "       1975, 1987, 1980, 1981, 1982, 1965, 1984])"
      ]
     },
     "execution_count": 16,
     "metadata": {},
     "output_type": "execute_result"
    }
   ],
   "source": [
    "# what are the unique value in Year column\n",
    "df.Year.unique()"
   ]
  },
  {
   "cell_type": "code",
   "execution_count": 17,
   "metadata": {
    "scrolled": false
   },
   "outputs": [
    {
     "data": {
      "text/plain": [
       "other    27.613566\n",
       "2016     14.810205\n",
       "2017     10.112010\n",
       "2015      9.769757\n",
       "2018      9.738643\n",
       "2019      7.685128\n",
       "2014      7.016179\n",
       "2020      6.907281\n",
       "2013      6.347231\n",
       "Name: Year, dtype: float64"
      ]
     },
     "execution_count": 17,
     "metadata": {},
     "output_type": "execute_result"
    }
   ],
   "source": [
    "# normalize the year of the cars\n",
    "freq = df.Year.value_counts(normalize=True)\n",
    "#replace the small categories to \"other\"\n",
    "year_updated = df.Year.replace(freq[freq<0.05].index , \"other\")\n",
    "\n",
    "#Check after the edit (print with percentage )\n",
    "year_updated.value_counts(normalize=True).mul(100)"
   ]
  },
  {
   "cell_type": "markdown",
   "metadata": {},
   "source": [
    " <b>As we can see in our dataset, the most common car year is 2016, followed by 2017, which are represent almost a quarter of our dataset.</b>"
   ]
  },
  {
   "cell_type": "markdown",
   "metadata": {},
   "source": [
    "## What are the most popular Region of the cars"
   ]
  },
  {
   "cell_type": "code",
   "execution_count": 18,
   "metadata": {},
   "outputs": [
    {
     "data": {
      "text/plain": [
       "array(['Riyadh', 'Jeddah', 'Abha', 'Dammam', 'Qassim', 'Taef',\n",
       "       'Al-Medina', 'Aseer', 'Wadi Dawasir', 'Al-Ahsa', 'Tabouk',\n",
       "       'Makkah', 'Jazan', 'Khobar', 'Al-Jouf', 'Hafar Al-Batin', 'Yanbu',\n",
       "       'Jubail', 'Najran', 'Al-Baha', 'Arar', 'Hail', 'Al-Namas',\n",
       "       'Sakaka', 'Besha', 'Qurayyat', 'Sabya'], dtype=object)"
      ]
     },
     "execution_count": 18,
     "metadata": {},
     "output_type": "execute_result"
    }
   ],
   "source": [
    "# what are the unique value in Region column\n",
    "df.Region.unique()"
   ]
  },
  {
   "cell_type": "code",
   "execution_count": 19,
   "metadata": {},
   "outputs": [
    {
     "data": {
      "text/plain": [
       "Riyadh       39.887990\n",
       "Dammam       17.268202\n",
       "Jeddah       13.332296\n",
       "other        10.034225\n",
       "Qassim        3.889235\n",
       "Al-Medina     3.795893\n",
       "Aseer         2.831363\n",
       "Al-Ahsa       2.831363\n",
       "Makkah        2.815806\n",
       "Taef          1.726820\n",
       "Tabouk        1.586808\n",
       "Name: Region, dtype: float64"
      ]
     },
     "execution_count": 19,
     "metadata": {},
     "output_type": "execute_result"
    }
   ],
   "source": [
    "# normalize the year of the cars\n",
    "freq = df.Region.value_counts()\n",
    "#replace the Region with less than 100 cars to \"other\" category\n",
    "region_updated = df.Region.replace(freq[freq<100].index , \"other\")\n",
    "\n",
    "#Check after the edit (print with percentage )\n",
    "region_updated.value_counts(normalize=True).mul(100)"
   ]
  },
  {
   "cell_type": "code",
   "execution_count": 20,
   "metadata": {},
   "outputs": [
    {
     "data": {
      "text/plain": [
       "Text(0.5, 1.0, 'Top 10 Most Popular Regions of the Used Cars')"
      ]
     },
     "execution_count": 20,
     "metadata": {},
     "output_type": "execute_result"
    },
    {
     "data": {
      "image/png": "[encoded data removed]",
      "text/plain": [
       "<Figure size 864x576 with 1 Axes>"
      ]
     },
     "metadata": {},
     "output_type": "display_data"
    }
   ],
   "source": [
    "\n",
    "# Bar chart for Top 10 Most Popular Regions of the Used Cars\n",
    "\n",
    "gry=df\n",
    "\n",
    "cars_region= gry.groupby('Region')['Region'].count()\n",
    "cars_region = pd.DataFrame(cars_region)\n",
    "cars_region.columns = ['region Cars']\n",
    "cars_region.sort_values(by=['region Cars'], inplace=True, ascending=False)\n",
    "\n",
    "cars_region = cars_make.head(10)\n",
    "\n",
    "#plt.title(\"The most popular brands of the cars\")\n",
    "plt.style.use(\"cyberpunk\")\n",
    "a = cars_region.plot.bar(fontsize=12, figsize=(12, 8))\n",
    "plt.legend(\"\")\n",
    "plt.xticks(rotation=35)\n",
    "plt.xlabel('Car Region',fontsize=20) # using a size in points\n",
    "plt.ylabel(' Number of Cars',fontsize=20) # using a size in points\n",
    "plt.title('Top 10 Most Popular Regions of the Used Cars',fontsize=22)\n"
   ]
  },
  {
   "cell_type": "code",
   "execution_count": 21,
   "metadata": {},
   "outputs": [
    {
     "data": {
      "text/plain": [
       "0         2021\n",
       "45000      121\n",
       "35000      107\n",
       "55000      102\n",
       "30000       94\n",
       "          ... \n",
       "56600        1\n",
       "349000       1\n",
       "445000       1\n",
       "1013         1\n",
       "1046         1\n",
       "Name: Price, Length: 488, dtype: int64"
      ]
     },
     "execution_count": 21,
     "metadata": {},
     "output_type": "execute_result"
    }
   ],
   "source": [
    "# number of observation in each unique price value\n",
    "df.Price.value_counts()"
   ]
  },
  {
   "cell_type": "code",
   "execution_count": 22,
   "metadata": {},
   "outputs": [
    {
     "data": {
      "text/plain": [
       "0    2021\n",
       "1       1\n",
       "Name: Price, dtype: int64"
      ]
     },
     "execution_count": 22,
     "metadata": {},
     "output_type": "execute_result"
    }
   ],
   "source": [
    "# check the price if less than 100\n",
    "df[df.Price < 100].Price.value_counts()"
   ]
  },
  {
   "cell_type": "markdown",
   "metadata": {},
   "source": [
    "# Data Cleaning"
   ]
  },
  {
   "cell_type": "markdown",
   "metadata": {},
   "source": [
    "#### Issues:\n",
    "- Unnamed: 0 column is meaningless \n",
    "- Price column contain 2021 observations with the value (0) and one observation with value (1)\n"
   ]
  },
  {
   "cell_type": "code",
   "execution_count": 23,
   "metadata": {},
   "outputs": [],
   "source": [
    "# first step is making a copy of the dataframe\n",
    "df_clean = df.copy()"
   ]
  },
  {
   "cell_type": "code",
   "execution_count": 24,
   "metadata": {},
   "outputs": [],
   "source": [
    "# renamimng the Unnamed: 0 column to  index\n",
    "df_clean.rename(columns={'Unnamed: 0': 'index'}, inplace=True)"
   ]
  },
  {
   "cell_type": "code",
   "execution_count": 25,
   "metadata": {},
   "outputs": [],
   "source": [
    "# setting the first column as index\n",
    "df_clean = df_clean.set_index('index')"
   ]
  },
  {
   "cell_type": "code",
   "execution_count": null,
   "metadata": {
    "scrolled": false
   },
   "outputs": [],
   "source": [
    "df_clean.head()"
   ]
  },
  {
   "cell_type": "code",
   "execution_count": null,
   "metadata": {},
   "outputs": [],
   "source": []
  },
  {
   "cell_type": "code",
   "execution_count": null,
   "metadata": {},
   "outputs": [],
   "source": []
  },
  {
   "cell_type": "code",
   "execution_count": null,
   "metadata": {},
   "outputs": [],
   "source": []
  }
 ],
 "metadata": {
  "interpreter": {
   "hash": "32c0ce65d1c0d68efd1412b89c10e441eed94c13c34713d0006e8f375390a6c2"
  },
  "kernelspec": {
   "display_name": "Python 3 (ipykernel)",
   "language": "python",
   "name": "python3"
  },
  "language_info": {
   "codemirror_mode": {
    "name": "ipython",
    "version": 3
   },
   "file_extension": ".py",
   "mimetype": "text/x-python",
   "name": "python",
   "nbconvert_exporter": "python",
   "pygments_lexer": "ipython3",
   "version": "3.9.9"
  },
  "toc": {
   "base_numbering": 1,
   "nav_menu": {},
   "number_sections": true,
   "sideBar": true,
   "skip_h1_title": false,
   "title_cell": "Table of Contents",
   "title_sidebar": "Contents",
   "toc_cell": false,
   "toc_position": {},
   "toc_section_display": true,
   "toc_window_display": false
  },
  "varInspector": {
   "cols": {
    "lenName": 16,
    "lenType": 16,
    "lenVar": 40
   },
   "kernels_config": {
    "python": {
     "delete_cmd_postfix": "",
     "delete_cmd_prefix": "del ",
     "library": "var_list.py",
     "varRefreshCmd": "print(var_dic_list())"
    },
    "r": {
     "delete_cmd_postfix": ") ",
     "delete_cmd_prefix": "rm(",
     "library": "var_list.r",
     "varRefreshCmd": "cat(var_dic_list()) "
    }
   },
   "types_to_exclude": [
    "module",
    "function",
    "builtin_function_or_method",
    "instance",
    "_Feature"
   ],
   "window_display": false
  }
 },
 "nbformat": 4,
 "nbformat_minor": 2
}
